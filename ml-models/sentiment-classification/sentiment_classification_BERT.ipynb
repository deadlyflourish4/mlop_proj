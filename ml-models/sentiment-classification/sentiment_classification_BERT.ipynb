{
 "cells": [
  {
   "cell_type": "code",
   "execution_count": 2,
   "metadata": {
    "colab": {
     "base_uri": "https://localhost:8080/"
    },
    "executionInfo": {
     "elapsed": 22177,
     "status": "ok",
     "timestamp": 1739199193307,
     "user": {
      "displayName": "Anh Bui Duc",
      "userId": "05186064674968086324"
     },
     "user_tz": -420
    },
    "id": "ZnHDG3FlZC42",
    "outputId": "d7a0477d-e3cb-44ea-8021-93f453918461"
   },
   "outputs": [
    {
     "name": "stdout",
     "output_type": "stream",
     "text": [
      "Mounted at /content/drive\n"
     ]
    }
   ],
   "source": [
    "# Load the Drive helper and mount\n",
    "from google.colab import drive\n",
    "drive.mount('/content/drive')"
   ]
  },
  {
   "cell_type": "code",
   "execution_count": 3,
   "metadata": {
    "executionInfo": {
     "elapsed": 26,
     "status": "ok",
     "timestamp": 1739199193319,
     "user": {
      "displayName": "Anh Bui Duc",
      "userId": "05186064674968086324"
     },
     "user_tz": -420
    },
    "id": "GavK7VjAY5e9"
   },
   "outputs": [],
   "source": [
    "import warnings\n",
    "warnings.filterwarnings('ignore')"
   ]
  },
  {
   "cell_type": "code",
   "execution_count": 4,
   "metadata": {
    "colab": {
     "base_uri": "https://localhost:8080/"
    },
    "executionInfo": {
     "elapsed": 4549,
     "status": "ok",
     "timestamp": 1739199197843,
     "user": {
      "displayName": "Anh Bui Duc",
      "userId": "05186064674968086324"
     },
     "user_tz": -420
    },
    "id": "UvTi0VkGZMFu",
    "outputId": "be83379f-359c-432d-b77e-ff589dae9862"
   },
   "outputs": [
    {
     "name": "stdout",
     "output_type": "stream",
     "text": [
      "Collecting datasets\n",
      "  Downloading datasets-3.2.0-py3-none-any.whl.metadata (20 kB)\n",
      "Requirement already satisfied: filelock in /usr/local/lib/python3.11/dist-packages (from datasets) (3.17.0)\n",
      "Requirement already satisfied: numpy>=1.17 in /usr/local/lib/python3.11/dist-packages (from datasets) (1.26.4)\n",
      "Requirement already satisfied: pyarrow>=15.0.0 in /usr/local/lib/python3.11/dist-packages (from datasets) (17.0.0)\n",
      "Collecting dill<0.3.9,>=0.3.0 (from datasets)\n",
      "  Downloading dill-0.3.8-py3-none-any.whl.metadata (10 kB)\n",
      "Requirement already satisfied: pandas in /usr/local/lib/python3.11/dist-packages (from datasets) (2.2.2)\n",
      "Requirement already satisfied: requests>=2.32.2 in /usr/local/lib/python3.11/dist-packages (from datasets) (2.32.3)\n",
      "Requirement already satisfied: tqdm>=4.66.3 in /usr/local/lib/python3.11/dist-packages (from datasets) (4.67.1)\n",
      "Collecting xxhash (from datasets)\n",
      "  Downloading xxhash-3.5.0-cp311-cp311-manylinux_2_17_x86_64.manylinux2014_x86_64.whl.metadata (12 kB)\n",
      "Collecting multiprocess<0.70.17 (from datasets)\n",
      "  Downloading multiprocess-0.70.16-py311-none-any.whl.metadata (7.2 kB)\n",
      "Collecting fsspec<=2024.9.0,>=2023.1.0 (from fsspec[http]<=2024.9.0,>=2023.1.0->datasets)\n",
      "  Downloading fsspec-2024.9.0-py3-none-any.whl.metadata (11 kB)\n",
      "Requirement already satisfied: aiohttp in /usr/local/lib/python3.11/dist-packages (from datasets) (3.11.11)\n",
      "Requirement already satisfied: huggingface-hub>=0.23.0 in /usr/local/lib/python3.11/dist-packages (from datasets) (0.28.1)\n",
      "Requirement already satisfied: packaging in /usr/local/lib/python3.11/dist-packages (from datasets) (24.2)\n",
      "Requirement already satisfied: pyyaml>=5.1 in /usr/local/lib/python3.11/dist-packages (from datasets) (6.0.2)\n",
      "Requirement already satisfied: aiohappyeyeballs>=2.3.0 in /usr/local/lib/python3.11/dist-packages (from aiohttp->datasets) (2.4.4)\n",
      "Requirement already satisfied: aiosignal>=1.1.2 in /usr/local/lib/python3.11/dist-packages (from aiohttp->datasets) (1.3.2)\n",
      "Requirement already satisfied: attrs>=17.3.0 in /usr/local/lib/python3.11/dist-packages (from aiohttp->datasets) (25.1.0)\n",
      "Requirement already satisfied: frozenlist>=1.1.1 in /usr/local/lib/python3.11/dist-packages (from aiohttp->datasets) (1.5.0)\n",
      "Requirement already satisfied: multidict<7.0,>=4.5 in /usr/local/lib/python3.11/dist-packages (from aiohttp->datasets) (6.1.0)\n",
      "Requirement already satisfied: propcache>=0.2.0 in /usr/local/lib/python3.11/dist-packages (from aiohttp->datasets) (0.2.1)\n",
      "Requirement already satisfied: yarl<2.0,>=1.17.0 in /usr/local/lib/python3.11/dist-packages (from aiohttp->datasets) (1.18.3)\n",
      "Requirement already satisfied: typing-extensions>=3.7.4.3 in /usr/local/lib/python3.11/dist-packages (from huggingface-hub>=0.23.0->datasets) (4.12.2)\n",
      "Requirement already satisfied: charset-normalizer<4,>=2 in /usr/local/lib/python3.11/dist-packages (from requests>=2.32.2->datasets) (3.4.1)\n",
      "Requirement already satisfied: idna<4,>=2.5 in /usr/local/lib/python3.11/dist-packages (from requests>=2.32.2->datasets) (3.10)\n",
      "Requirement already satisfied: urllib3<3,>=1.21.1 in /usr/local/lib/python3.11/dist-packages (from requests>=2.32.2->datasets) (2.3.0)\n",
      "Requirement already satisfied: certifi>=2017.4.17 in /usr/local/lib/python3.11/dist-packages (from requests>=2.32.2->datasets) (2025.1.31)\n",
      "Requirement already satisfied: python-dateutil>=2.8.2 in /usr/local/lib/python3.11/dist-packages (from pandas->datasets) (2.8.2)\n",
      "Requirement already satisfied: pytz>=2020.1 in /usr/local/lib/python3.11/dist-packages (from pandas->datasets) (2025.1)\n",
      "Requirement already satisfied: tzdata>=2022.7 in /usr/local/lib/python3.11/dist-packages (from pandas->datasets) (2025.1)\n",
      "Requirement already satisfied: six>=1.5 in /usr/local/lib/python3.11/dist-packages (from python-dateutil>=2.8.2->pandas->datasets) (1.17.0)\n",
      "Downloading datasets-3.2.0-py3-none-any.whl (480 kB)\n",
      "\u001b[2K   \u001b[90m━━━━━━━━━━━━━━━━━━━━━━━━━━━━━━━━━━━━━━━━\u001b[0m \u001b[32m480.6/480.6 kB\u001b[0m \u001b[31m15.6 MB/s\u001b[0m eta \u001b[36m0:00:00\u001b[0m\n",
      "\u001b[?25hDownloading dill-0.3.8-py3-none-any.whl (116 kB)\n",
      "\u001b[2K   \u001b[90m━━━━━━━━━━━━━━━━━━━━━━━━━━━━━━━━━━━━━━━━\u001b[0m \u001b[32m116.3/116.3 kB\u001b[0m \u001b[31m11.0 MB/s\u001b[0m eta \u001b[36m0:00:00\u001b[0m\n",
      "\u001b[?25hDownloading fsspec-2024.9.0-py3-none-any.whl (179 kB)\n",
      "\u001b[2K   \u001b[90m━━━━━━━━━━━━━━━━━━━━━━━━━━━━━━━━━━━━━━━━\u001b[0m \u001b[32m179.3/179.3 kB\u001b[0m \u001b[31m17.1 MB/s\u001b[0m eta \u001b[36m0:00:00\u001b[0m\n",
      "\u001b[?25hDownloading multiprocess-0.70.16-py311-none-any.whl (143 kB)\n",
      "\u001b[2K   \u001b[90m━━━━━━━━━━━━━━━━━━━━━━━━━━━━━━━━━━━━━━━━\u001b[0m \u001b[32m143.5/143.5 kB\u001b[0m \u001b[31m14.0 MB/s\u001b[0m eta \u001b[36m0:00:00\u001b[0m\n",
      "\u001b[?25hDownloading xxhash-3.5.0-cp311-cp311-manylinux_2_17_x86_64.manylinux2014_x86_64.whl (194 kB)\n",
      "\u001b[2K   \u001b[90m━━━━━━━━━━━━━━━━━━━━━━━━━━━━━━━━━━━━━━━━\u001b[0m \u001b[32m194.8/194.8 kB\u001b[0m \u001b[31m18.9 MB/s\u001b[0m eta \u001b[36m0:00:00\u001b[0m\n",
      "\u001b[?25hInstalling collected packages: xxhash, fsspec, dill, multiprocess, datasets\n",
      "  Attempting uninstall: fsspec\n",
      "    Found existing installation: fsspec 2024.10.0\n",
      "    Uninstalling fsspec-2024.10.0:\n",
      "      Successfully uninstalled fsspec-2024.10.0\n",
      "\u001b[31mERROR: pip's dependency resolver does not currently take into account all the packages that are installed. This behaviour is the source of the following dependency conflicts.\n",
      "gcsfs 2024.10.0 requires fsspec==2024.10.0, but you have fsspec 2024.9.0 which is incompatible.\n",
      "torch 2.5.1+cu124 requires nvidia-cublas-cu12==12.4.5.8; platform_system == \"Linux\" and platform_machine == \"x86_64\", but you have nvidia-cublas-cu12 12.5.3.2 which is incompatible.\n",
      "torch 2.5.1+cu124 requires nvidia-cuda-cupti-cu12==12.4.127; platform_system == \"Linux\" and platform_machine == \"x86_64\", but you have nvidia-cuda-cupti-cu12 12.5.82 which is incompatible.\n",
      "torch 2.5.1+cu124 requires nvidia-cuda-nvrtc-cu12==12.4.127; platform_system == \"Linux\" and platform_machine == \"x86_64\", but you have nvidia-cuda-nvrtc-cu12 12.5.82 which is incompatible.\n",
      "torch 2.5.1+cu124 requires nvidia-cuda-runtime-cu12==12.4.127; platform_system == \"Linux\" and platform_machine == \"x86_64\", but you have nvidia-cuda-runtime-cu12 12.5.82 which is incompatible.\n",
      "torch 2.5.1+cu124 requires nvidia-cudnn-cu12==9.1.0.70; platform_system == \"Linux\" and platform_machine == \"x86_64\", but you have nvidia-cudnn-cu12 9.3.0.75 which is incompatible.\n",
      "torch 2.5.1+cu124 requires nvidia-cufft-cu12==11.2.1.3; platform_system == \"Linux\" and platform_machine == \"x86_64\", but you have nvidia-cufft-cu12 11.2.3.61 which is incompatible.\n",
      "torch 2.5.1+cu124 requires nvidia-curand-cu12==10.3.5.147; platform_system == \"Linux\" and platform_machine == \"x86_64\", but you have nvidia-curand-cu12 10.3.6.82 which is incompatible.\n",
      "torch 2.5.1+cu124 requires nvidia-cusolver-cu12==11.6.1.9; platform_system == \"Linux\" and platform_machine == \"x86_64\", but you have nvidia-cusolver-cu12 11.6.3.83 which is incompatible.\n",
      "torch 2.5.1+cu124 requires nvidia-cusparse-cu12==12.3.1.170; platform_system == \"Linux\" and platform_machine == \"x86_64\", but you have nvidia-cusparse-cu12 12.5.1.3 which is incompatible.\n",
      "torch 2.5.1+cu124 requires nvidia-nvjitlink-cu12==12.4.127; platform_system == \"Linux\" and platform_machine == \"x86_64\", but you have nvidia-nvjitlink-cu12 12.5.82 which is incompatible.\u001b[0m\u001b[31m\n",
      "\u001b[0mSuccessfully installed datasets-3.2.0 dill-0.3.8 fsspec-2024.9.0 multiprocess-0.70.16 xxhash-3.5.0\n"
     ]
    }
   ],
   "source": [
    "!pip install datasets"
   ]
  },
  {
   "cell_type": "code",
   "execution_count": 5,
   "metadata": {
    "colab": {
     "base_uri": "https://localhost:8080/"
    },
    "executionInfo": {
     "elapsed": 8,
     "status": "ok",
     "timestamp": 1739199197852,
     "user": {
      "displayName": "Anh Bui Duc",
      "userId": "05186064674968086324"
     },
     "user_tz": -420
    },
    "id": "7SZOEl8mZc4g",
    "outputId": "49ee753f-e79a-4b28-a1d5-8d633895845b"
   },
   "outputs": [
    {
     "name": "stdout",
     "output_type": "stream",
     "text": [
      "/content/drive/MyDrive/AI-2025-study\n"
     ]
    }
   ],
   "source": [
    "cd /content/drive/MyDrive/AI-2025-study"
   ]
  },
  {
   "cell_type": "code",
   "execution_count": 6,
   "metadata": {
    "colab": {
     "base_uri": "https://localhost:8080/",
     "height": 206
    },
    "executionInfo": {
     "elapsed": 7770,
     "status": "ok",
     "timestamp": 1739199205623,
     "user": {
      "displayName": "Anh Bui Duc",
      "userId": "05186064674968086324"
     },
     "user_tz": -420
    },
    "id": "NGAcjLO4Y5e-",
    "outputId": "ad485ffe-ae88-4b80-b39a-86e03669a535"
   },
   "outputs": [
    {
     "data": {
      "application/vnd.google.colaboratory.intrinsic+json": {
       "summary": "{\n  \"name\": \"df\",\n  \"rows\": 50000,\n  \"fields\": [\n    {\n      \"column\": \"review\",\n      \"properties\": {\n        \"dtype\": \"string\",\n        \"num_unique_values\": 49582,\n        \"samples\": [\n          \"\\\"Soul Plane\\\" is a horrible attempt at comedy that only should appeal people with thick skulls, bloodshot eyes and furry pawns. <br /><br />The plot is not only incoherent but also non-existent, acting is mostly sub sub-par with a gang of highly moronic and dreadful characters thrown in for bad measure, jokes are often spotted miles ahead and almost never even a bit amusing. This movie lacks any structure and is full of racial stereotypes that must have seemed old even in the fifties, the only thing it really has going for it is some pretty ladies, but really, if you want that you can rent something from the \\\"Adult\\\" section. OK?<br /><br />I can hardly see anything here to recommend since you'll probably have a lot a better and productive time chasing rats with a sledgehammer or inventing waterproof teabags or whatever.<br /><br />2/10\",\n          \"Guest from the Future tells a fascinating story of time travel, friendship, battle of good and evil -- all with a small budget, child actors, and few special effects. Something for Spielberg and Lucas to learn from. ;) A sixth-grader Kolya \\\"Nick\\\" Gerasimov finds a time machine in the basement of a decrepit building and travels 100 years into the future. He discovers a near-perfect, utopian society where robots play guitars and write poetry, everyone is kind to each other and people enjoy everything technology has to offer. Alice is the daughter of a prominent scientist who invented a device called Mielophone that allows to read minds of humans and animals. The device can be put to both good and bad use, depending on whose hands it falls into. When two evil space pirates from Saturn who want to rule the universe attempt to steal Mielophone, it falls into the hands of 20th century school boy Nick. With the pirates hot on his tracks, he travels back to his time, followed by the pirates, and Alice. Chaos, confusion and funny situations follow as the luckless pirates try to blend in with the earthlings. Alice enrolls in the same school Nick goes to and demonstrates superhuman abilities in PE class. The catch is, Alice doesn't know what Nick looks like, while the pirates do. Also, the pirates are able to change their appearance and turn literally into anyone. (Hmm, I wonder if this is where James Cameron got the idea for Terminator...) Who gets to Nick -- and Mielophone -- first? Excellent plot, non-stop adventures, and great soundtrack. I wish Hollywood made kid movies like this one...\",\n          \"\\\"National Treasure\\\" (2004) is a thoroughly misguided hodge-podge of plot entanglements that borrow from nearly every cloak and dagger government conspiracy clich\\u00e9 that has ever been written. The film stars Nicholas Cage as Benjamin Franklin Gates (how precious is that, I ask you?); a seemingly normal fellow who, for no other reason than being of a lineage of like-minded misguided fortune hunters, decides to steal a 'national treasure' that has been hidden by the United States founding fathers. After a bit of subtext and background that plays laughably (unintentionally) like Indiana Jones meets The Patriot, the film degenerates into one misguided whimsy after another \\u0096 attempting to create a 'Stanley Goodspeed' regurgitation of Nicholas Cage and launch the whole convoluted mess forward with a series of high octane, but disconnected misadventures.<br /><br />The relevancy and logic to having George Washington and his motley crew of patriots burying a king's ransom someplace on native soil, and then, going through the meticulous plan of leaving clues scattered throughout U.S. currency art work, is something that director Jon Turteltaub never quite gets around to explaining. Couldn't Washington found better usage for such wealth during the start up of the country? Hence, we are left with a mystery built on top of an enigma that is already on shaky ground by the time Ben appoints himself the new custodian of this untold wealth. Ben's intentions are noble \\u0096 if confusing. He's set on protecting the treasure. For who and when?\\u0085your guess is as good as mine.<br /><br />But there are a few problems with Ben's crusade. First up, his friend, Ian Holmes (Sean Bean) decides that he can't wait for Ben to make up his mind about stealing the Declaration of Independence from the National Archives (oh, yeah \\u0096 brilliant idea!). Presumably, the back of that famous document holds the secret answer to the ultimate fortune. So Ian tries to kill Ben. The assassination attempt is, of course, unsuccessful, if overly melodramatic. It also affords Ben the opportunity to pick up, and pick on, the very sultry curator of the archives, Abigail Chase (Diane Kruger). She thinks Ben is clearly a nut \\u0096 at least at the beginning. But true to action/romance form, Abby's resolve melts quicker than you can say, \\\"is that the Hope Diamond?\\\" The film moves into full X-File-ish mode, as the FBI, mistakenly believing that Ben is behind the theft, retaliate in various benign ways that lead to a multi-layering of action sequences reminiscent of Mission Impossible meets The Fugitive. Honestly, don't those guys ever get 'intelligence' information that is correct? In the final analysis, \\\"National Treasure\\\" isn't great film making, so much as it's a patchwork rehash of tired old bits from other movies, woven together from scraps, the likes of which would make IL' Betsy Ross blush.<br /><br />The Buena Vista DVD delivers a far more generous treatment than this film is deserving of. The anamorphic widescreen picture exhibits a very smooth and finely detailed image with very rich colors, natural flesh tones, solid blacks and clean whites. The stylized image is also free of blemishes and digital enhancements. The audio is 5.1 and delivers a nice sonic boom to your side and rear speakers with intensity and realism. Extras include a host of promotional junket material that is rather deep and over the top in its explanation of how and why this film was made. If only, as an audience, we had had more clarification as to why Ben and co. were chasing after an illusive treasure, this might have been one good flick. Extras conclude with the theatrical trailer, audio commentary and deleted scenes. Not for the faint-hearted \\u0096 just the thick-headed.\"\n        ],\n        \"semantic_type\": \"\",\n        \"description\": \"\"\n      }\n    },\n    {\n      \"column\": \"sentiment\",\n      \"properties\": {\n        \"dtype\": \"category\",\n        \"num_unique_values\": 2,\n        \"samples\": [\n          \"negative\",\n          \"positive\"\n        ],\n        \"semantic_type\": \"\",\n        \"description\": \"\"\n      }\n    }\n  ]\n}",
       "type": "dataframe",
       "variable_name": "df"
      },
      "text/html": [
       "\n",
       "  <div id=\"df-a4a71d41-f18c-42a8-a579-1a5967459a77\" class=\"colab-df-container\">\n",
       "    <div>\n",
       "<style scoped>\n",
       "    .dataframe tbody tr th:only-of-type {\n",
       "        vertical-align: middle;\n",
       "    }\n",
       "\n",
       "    .dataframe tbody tr th {\n",
       "        vertical-align: top;\n",
       "    }\n",
       "\n",
       "    .dataframe thead th {\n",
       "        text-align: right;\n",
       "    }\n",
       "</style>\n",
       "<table border=\"1\" class=\"dataframe\">\n",
       "  <thead>\n",
       "    <tr style=\"text-align: right;\">\n",
       "      <th></th>\n",
       "      <th>review</th>\n",
       "      <th>sentiment</th>\n",
       "    </tr>\n",
       "  </thead>\n",
       "  <tbody>\n",
       "    <tr>\n",
       "      <th>0</th>\n",
       "      <td>One of the other reviewers has mentioned that ...</td>\n",
       "      <td>positive</td>\n",
       "    </tr>\n",
       "    <tr>\n",
       "      <th>1</th>\n",
       "      <td>A wonderful little production. &lt;br /&gt;&lt;br /&gt;The...</td>\n",
       "      <td>positive</td>\n",
       "    </tr>\n",
       "    <tr>\n",
       "      <th>2</th>\n",
       "      <td>I thought this was a wonderful way to spend ti...</td>\n",
       "      <td>positive</td>\n",
       "    </tr>\n",
       "    <tr>\n",
       "      <th>3</th>\n",
       "      <td>Basically there's a family where a little boy ...</td>\n",
       "      <td>negative</td>\n",
       "    </tr>\n",
       "    <tr>\n",
       "      <th>4</th>\n",
       "      <td>Petter Mattei's \"Love in the Time of Money\" is...</td>\n",
       "      <td>positive</td>\n",
       "    </tr>\n",
       "  </tbody>\n",
       "</table>\n",
       "</div>\n",
       "    <div class=\"colab-df-buttons\">\n",
       "\n",
       "  <div class=\"colab-df-container\">\n",
       "    <button class=\"colab-df-convert\" onclick=\"convertToInteractive('df-a4a71d41-f18c-42a8-a579-1a5967459a77')\"\n",
       "            title=\"Convert this dataframe to an interactive table.\"\n",
       "            style=\"display:none;\">\n",
       "\n",
       "  <svg xmlns=\"http://www.w3.org/2000/svg\" height=\"24px\" viewBox=\"0 -960 960 960\">\n",
       "    <path d=\"M120-120v-720h720v720H120Zm60-500h600v-160H180v160Zm220 220h160v-160H400v160Zm0 220h160v-160H400v160ZM180-400h160v-160H180v160Zm440 0h160v-160H620v160ZM180-180h160v-160H180v160Zm440 0h160v-160H620v160Z\"/>\n",
       "  </svg>\n",
       "    </button>\n",
       "\n",
       "  <style>\n",
       "    .colab-df-container {\n",
       "      display:flex;\n",
       "      gap: 12px;\n",
       "    }\n",
       "\n",
       "    .colab-df-convert {\n",
       "      background-color: #E8F0FE;\n",
       "      border: none;\n",
       "      border-radius: 50%;\n",
       "      cursor: pointer;\n",
       "      display: none;\n",
       "      fill: #1967D2;\n",
       "      height: 32px;\n",
       "      padding: 0 0 0 0;\n",
       "      width: 32px;\n",
       "    }\n",
       "\n",
       "    .colab-df-convert:hover {\n",
       "      background-color: #E2EBFA;\n",
       "      box-shadow: 0px 1px 2px rgba(60, 64, 67, 0.3), 0px 1px 3px 1px rgba(60, 64, 67, 0.15);\n",
       "      fill: #174EA6;\n",
       "    }\n",
       "\n",
       "    .colab-df-buttons div {\n",
       "      margin-bottom: 4px;\n",
       "    }\n",
       "\n",
       "    [theme=dark] .colab-df-convert {\n",
       "      background-color: #3B4455;\n",
       "      fill: #D2E3FC;\n",
       "    }\n",
       "\n",
       "    [theme=dark] .colab-df-convert:hover {\n",
       "      background-color: #434B5C;\n",
       "      box-shadow: 0px 1px 3px 1px rgba(0, 0, 0, 0.15);\n",
       "      filter: drop-shadow(0px 1px 2px rgba(0, 0, 0, 0.3));\n",
       "      fill: #FFFFFF;\n",
       "    }\n",
       "  </style>\n",
       "\n",
       "    <script>\n",
       "      const buttonEl =\n",
       "        document.querySelector('#df-a4a71d41-f18c-42a8-a579-1a5967459a77 button.colab-df-convert');\n",
       "      buttonEl.style.display =\n",
       "        google.colab.kernel.accessAllowed ? 'block' : 'none';\n",
       "\n",
       "      async function convertToInteractive(key) {\n",
       "        const element = document.querySelector('#df-a4a71d41-f18c-42a8-a579-1a5967459a77');\n",
       "        const dataTable =\n",
       "          await google.colab.kernel.invokeFunction('convertToInteractive',\n",
       "                                                    [key], {});\n",
       "        if (!dataTable) return;\n",
       "\n",
       "        const docLinkHtml = 'Like what you see? Visit the ' +\n",
       "          '<a target=\"_blank\" href=https://colab.research.google.com/notebooks/data_table.ipynb>data table notebook</a>'\n",
       "          + ' to learn more about interactive tables.';\n",
       "        element.innerHTML = '';\n",
       "        dataTable['output_type'] = 'display_data';\n",
       "        await google.colab.output.renderOutput(dataTable, element);\n",
       "        const docLink = document.createElement('div');\n",
       "        docLink.innerHTML = docLinkHtml;\n",
       "        element.appendChild(docLink);\n",
       "      }\n",
       "    </script>\n",
       "  </div>\n",
       "\n",
       "\n",
       "<div id=\"df-0e3c5f38-3e7f-4133-9dca-07b49dbaff37\">\n",
       "  <button class=\"colab-df-quickchart\" onclick=\"quickchart('df-0e3c5f38-3e7f-4133-9dca-07b49dbaff37')\"\n",
       "            title=\"Suggest charts\"\n",
       "            style=\"display:none;\">\n",
       "\n",
       "<svg xmlns=\"http://www.w3.org/2000/svg\" height=\"24px\"viewBox=\"0 0 24 24\"\n",
       "     width=\"24px\">\n",
       "    <g>\n",
       "        <path d=\"M19 3H5c-1.1 0-2 .9-2 2v14c0 1.1.9 2 2 2h14c1.1 0 2-.9 2-2V5c0-1.1-.9-2-2-2zM9 17H7v-7h2v7zm4 0h-2V7h2v10zm4 0h-2v-4h2v4z\"/>\n",
       "    </g>\n",
       "</svg>\n",
       "  </button>\n",
       "\n",
       "<style>\n",
       "  .colab-df-quickchart {\n",
       "      --bg-color: #E8F0FE;\n",
       "      --fill-color: #1967D2;\n",
       "      --hover-bg-color: #E2EBFA;\n",
       "      --hover-fill-color: #174EA6;\n",
       "      --disabled-fill-color: #AAA;\n",
       "      --disabled-bg-color: #DDD;\n",
       "  }\n",
       "\n",
       "  [theme=dark] .colab-df-quickchart {\n",
       "      --bg-color: #3B4455;\n",
       "      --fill-color: #D2E3FC;\n",
       "      --hover-bg-color: #434B5C;\n",
       "      --hover-fill-color: #FFFFFF;\n",
       "      --disabled-bg-color: #3B4455;\n",
       "      --disabled-fill-color: #666;\n",
       "  }\n",
       "\n",
       "  .colab-df-quickchart {\n",
       "    background-color: var(--bg-color);\n",
       "    border: none;\n",
       "    border-radius: 50%;\n",
       "    cursor: pointer;\n",
       "    display: none;\n",
       "    fill: var(--fill-color);\n",
       "    height: 32px;\n",
       "    padding: 0;\n",
       "    width: 32px;\n",
       "  }\n",
       "\n",
       "  .colab-df-quickchart:hover {\n",
       "    background-color: var(--hover-bg-color);\n",
       "    box-shadow: 0 1px 2px rgba(60, 64, 67, 0.3), 0 1px 3px 1px rgba(60, 64, 67, 0.15);\n",
       "    fill: var(--button-hover-fill-color);\n",
       "  }\n",
       "\n",
       "  .colab-df-quickchart-complete:disabled,\n",
       "  .colab-df-quickchart-complete:disabled:hover {\n",
       "    background-color: var(--disabled-bg-color);\n",
       "    fill: var(--disabled-fill-color);\n",
       "    box-shadow: none;\n",
       "  }\n",
       "\n",
       "  .colab-df-spinner {\n",
       "    border: 2px solid var(--fill-color);\n",
       "    border-color: transparent;\n",
       "    border-bottom-color: var(--fill-color);\n",
       "    animation:\n",
       "      spin 1s steps(1) infinite;\n",
       "  }\n",
       "\n",
       "  @keyframes spin {\n",
       "    0% {\n",
       "      border-color: transparent;\n",
       "      border-bottom-color: var(--fill-color);\n",
       "      border-left-color: var(--fill-color);\n",
       "    }\n",
       "    20% {\n",
       "      border-color: transparent;\n",
       "      border-left-color: var(--fill-color);\n",
       "      border-top-color: var(--fill-color);\n",
       "    }\n",
       "    30% {\n",
       "      border-color: transparent;\n",
       "      border-left-color: var(--fill-color);\n",
       "      border-top-color: var(--fill-color);\n",
       "      border-right-color: var(--fill-color);\n",
       "    }\n",
       "    40% {\n",
       "      border-color: transparent;\n",
       "      border-right-color: var(--fill-color);\n",
       "      border-top-color: var(--fill-color);\n",
       "    }\n",
       "    60% {\n",
       "      border-color: transparent;\n",
       "      border-right-color: var(--fill-color);\n",
       "    }\n",
       "    80% {\n",
       "      border-color: transparent;\n",
       "      border-right-color: var(--fill-color);\n",
       "      border-bottom-color: var(--fill-color);\n",
       "    }\n",
       "    90% {\n",
       "      border-color: transparent;\n",
       "      border-bottom-color: var(--fill-color);\n",
       "    }\n",
       "  }\n",
       "</style>\n",
       "\n",
       "  <script>\n",
       "    async function quickchart(key) {\n",
       "      const quickchartButtonEl =\n",
       "        document.querySelector('#' + key + ' button');\n",
       "      quickchartButtonEl.disabled = true;  // To prevent multiple clicks.\n",
       "      quickchartButtonEl.classList.add('colab-df-spinner');\n",
       "      try {\n",
       "        const charts = await google.colab.kernel.invokeFunction(\n",
       "            'suggestCharts', [key], {});\n",
       "      } catch (error) {\n",
       "        console.error('Error during call to suggestCharts:', error);\n",
       "      }\n",
       "      quickchartButtonEl.classList.remove('colab-df-spinner');\n",
       "      quickchartButtonEl.classList.add('colab-df-quickchart-complete');\n",
       "    }\n",
       "    (() => {\n",
       "      let quickchartButtonEl =\n",
       "        document.querySelector('#df-0e3c5f38-3e7f-4133-9dca-07b49dbaff37 button');\n",
       "      quickchartButtonEl.style.display =\n",
       "        google.colab.kernel.accessAllowed ? 'block' : 'none';\n",
       "    })();\n",
       "  </script>\n",
       "</div>\n",
       "\n",
       "    </div>\n",
       "  </div>\n"
      ],
      "text/plain": [
       "                                              review sentiment\n",
       "0  One of the other reviewers has mentioned that ...  positive\n",
       "1  A wonderful little production. <br /><br />The...  positive\n",
       "2  I thought this was a wonderful way to spend ti...  positive\n",
       "3  Basically there's a family where a little boy ...  negative\n",
       "4  Petter Mattei's \"Love in the Time of Money\" is...  positive"
      ]
     },
     "execution_count": 6,
     "metadata": {},
     "output_type": "execute_result"
    }
   ],
   "source": [
    "import pandas as pd\n",
    "from datasets import Dataset\n",
    "\n",
    "df = pd.read_csv('data/IMDB-Dataset.csv')\n",
    "df.head()"
   ]
  },
  {
   "cell_type": "code",
   "execution_count": 7,
   "metadata": {
    "colab": {
     "base_uri": "https://localhost:8080/"
    },
    "executionInfo": {
     "elapsed": 654,
     "status": "ok",
     "timestamp": 1739199206279,
     "user": {
      "displayName": "Anh Bui Duc",
      "userId": "05186064674968086324"
     },
     "user_tz": -420
    },
    "id": "7dOnHxUWY5e_",
    "outputId": "18c52d9c-eb23-4ac3-e6fa-f7c3240c1bbd"
   },
   "outputs": [
    {
     "data": {
      "text/plain": [
       "DatasetDict({\n",
       "    train: Dataset({\n",
       "        features: ['review', 'sentiment'],\n",
       "        num_rows: 35000\n",
       "    })\n",
       "    test: Dataset({\n",
       "        features: ['review', 'sentiment'],\n",
       "        num_rows: 15000\n",
       "    })\n",
       "})"
      ]
     },
     "execution_count": 7,
     "metadata": {},
     "output_type": "execute_result"
    }
   ],
   "source": [
    "dataset = Dataset.from_pandas(df)\n",
    "dataset = dataset.train_test_split(test_size=0.3)\n",
    "dataset"
   ]
  },
  {
   "cell_type": "code",
   "execution_count": 8,
   "metadata": {
    "executionInfo": {
     "elapsed": 75,
     "status": "ok",
     "timestamp": 1739199206355,
     "user": {
      "displayName": "Anh Bui Duc",
      "userId": "05186064674968086324"
     },
     "user_tz": -420
    },
    "id": "1G-4-mbeY5e_"
   },
   "outputs": [],
   "source": [
    "# input_ids, attention_mask, label -> numbers\n"
   ]
  },
  {
   "cell_type": "code",
   "execution_count": 9,
   "metadata": {
    "colab": {
     "base_uri": "https://localhost:8080/",
     "height": 178
    },
    "executionInfo": {
     "elapsed": 5,
     "status": "ok",
     "timestamp": 1739199206357,
     "user": {
      "displayName": "Anh Bui Duc",
      "userId": "05186064674968086324"
     },
     "user_tz": -420
    },
    "id": "5_BHoKkGY5e_",
    "outputId": "2382e8c5-bc97-4fc4-8bb5-8dc92c6b6afe"
   },
   "outputs": [
    {
     "data": {
      "text/html": [
       "<div>\n",
       "<style scoped>\n",
       "    .dataframe tbody tr th:only-of-type {\n",
       "        vertical-align: middle;\n",
       "    }\n",
       "\n",
       "    .dataframe tbody tr th {\n",
       "        vertical-align: top;\n",
       "    }\n",
       "\n",
       "    .dataframe thead th {\n",
       "        text-align: right;\n",
       "    }\n",
       "</style>\n",
       "<table border=\"1\" class=\"dataframe\">\n",
       "  <thead>\n",
       "    <tr style=\"text-align: right;\">\n",
       "      <th></th>\n",
       "      <th>count</th>\n",
       "    </tr>\n",
       "    <tr>\n",
       "      <th>sentiment</th>\n",
       "      <th></th>\n",
       "    </tr>\n",
       "  </thead>\n",
       "  <tbody>\n",
       "    <tr>\n",
       "      <th>positive</th>\n",
       "      <td>25000</td>\n",
       "    </tr>\n",
       "    <tr>\n",
       "      <th>negative</th>\n",
       "      <td>25000</td>\n",
       "    </tr>\n",
       "  </tbody>\n",
       "</table>\n",
       "</div><br><label><b>dtype:</b> int64</label>"
      ],
      "text/plain": [
       "sentiment\n",
       "positive    25000\n",
       "negative    25000\n",
       "Name: count, dtype: int64"
      ]
     },
     "execution_count": 9,
     "metadata": {},
     "output_type": "execute_result"
    }
   ],
   "source": [
    "df['sentiment'].value_counts()"
   ]
  },
  {
   "cell_type": "code",
   "execution_count": 10,
   "metadata": {
    "executionInfo": {
     "elapsed": 3,
     "status": "ok",
     "timestamp": 1739199206359,
     "user": {
      "displayName": "Anh Bui Duc",
      "userId": "05186064674968086324"
     },
     "user_tz": -420
    },
    "id": "ldD_gNgVY5fA"
   },
   "outputs": [],
   "source": [
    "labels2id = {\n",
    "    'negative': 0,\n",
    "    'positive': 1\n",
    "}\n",
    "id2labels = {\n",
    "    0: 'negative',\n",
    "    1: 'positive'\n",
    "}"
   ]
  },
  {
   "cell_type": "code",
   "execution_count": 11,
   "metadata": {
    "colab": {
     "base_uri": "https://localhost:8080/",
     "height": 81,
     "referenced_widgets": [
      "1c3ecf04337d49a3996ff7861b2bf132",
      "5145b53136c54961902805a0e8608f7f",
      "4f5207192e1f4205bcc0306525bd1d62",
      "59071db2c7a945fb9b51bb6e29317873",
      "1b27a199309c4d2ab5a5c5be45896399",
      "9dcc46696ef84fa7b10c25af99fd333a",
      "7a74f29b4d934ed28a5b33fd9a693b74",
      "38db43656a2547c9bef737b30cf3d3f7",
      "0cd9b52dfbfd4ddf8e4fdfb77e3a07c3",
      "999cc702e0584deab1e7f47b2a9d2fe2",
      "ea283883dc6f459eac5fdcbe144cdf86",
      "e37aa446591342778ff0b9745733dd6d",
      "4e0824ac08dd4184ac953bf059eccf6b",
      "48071f3ae53046ee973efb17b9a43906",
      "4b81639db7094084b7f021673a32f13f",
      "e137bfd8bd72438f84e56d35161fedd1",
      "490fd0c24ea34876807a9e884af97683",
      "7e2c65c969c34cbcb65e4f3c11c5a67b",
      "3ea6f47c4b8e4509a87579f0fe4f5002",
      "3a0dd9140bff4a0aad45ea444ce2aff2",
      "d263deb1f1854c6fbf070b335cf92e88",
      "a284a990d03b4f79ae85fdd444db4422"
     ]
    },
    "executionInfo": {
     "elapsed": 8386,
     "status": "ok",
     "timestamp": 1739199214743,
     "user": {
      "displayName": "Anh Bui Duc",
      "userId": "05186064674968086324"
     },
     "user_tz": -420
    },
    "id": "CRsDkYmcY5fA",
    "outputId": "afd08c06-b85d-4b60-af81-9831089b687c"
   },
   "outputs": [
    {
     "data": {
      "application/vnd.jupyter.widget-view+json": {
       "model_id": "1c3ecf04337d49a3996ff7861b2bf132",
       "version_major": 2,
       "version_minor": 0
      },
      "text/plain": [
       "Map:   0%|          | 0/35000 [00:00<?, ? examples/s]"
      ]
     },
     "metadata": {},
     "output_type": "display_data"
    },
    {
     "data": {
      "application/vnd.jupyter.widget-view+json": {
       "model_id": "e37aa446591342778ff0b9745733dd6d",
       "version_major": 2,
       "version_minor": 0
      },
      "text/plain": [
       "Map:   0%|          | 0/15000 [00:00<?, ? examples/s]"
      ]
     },
     "metadata": {},
     "output_type": "display_data"
    }
   ],
   "source": [
    "dataset = dataset.map(lambda x: {'label': labels2id[x['sentiment']]})"
   ]
  },
  {
   "cell_type": "code",
   "execution_count": 12,
   "metadata": {
    "colab": {
     "base_uri": "https://localhost:8080/"
    },
    "executionInfo": {
     "elapsed": 50,
     "status": "ok",
     "timestamp": 1739199214794,
     "user": {
      "displayName": "Anh Bui Duc",
      "userId": "05186064674968086324"
     },
     "user_tz": -420
    },
    "id": "B2YC34TuY5fA",
    "outputId": "64f84e68-9d33-49b9-f7f2-93deb60dedc6"
   },
   "outputs": [
    {
     "data": {
      "text/plain": [
       "{'review': 'I pretty much liked every character on this show from the start except Reba herself. She comes off as an holier than thou type and quite frankly a big Bully. And that stinks because she is in every scene and every episode. In the later seasons Van becomes unlikeable too,like a spoof of his former self. and Kyra walks around sneering and being miserable.The first 3 to 4 seasons are pretty good if you overlook Reba. Towards the end its pretty bleak.. In basically every episode Barbara jean Is walking around being dumb,Reba is being mean to her,but poor Ole Barbara jean desperately wants Reba to like her which results in Barabara jean telling Reba how awesome she is in every episode. I think it is pretty clear to see Reba has self esteem issues and wants to be seen as this all forgiving saint. Its really a shame too because other than her the show had such potential.',\n",
       " 'sentiment': 'negative',\n",
       " 'label': 0}"
      ]
     },
     "execution_count": 12,
     "metadata": {},
     "output_type": "execute_result"
    }
   ],
   "source": [
    "dataset['train'][0]"
   ]
  },
  {
   "cell_type": "code",
   "execution_count": 13,
   "metadata": {
    "executionInfo": {
     "elapsed": 20029,
     "status": "ok",
     "timestamp": 1739199234822,
     "user": {
      "displayName": "Anh Bui Duc",
      "userId": "05186064674968086324"
     },
     "user_tz": -420
    },
    "id": "b8GKozbdY5fB"
   },
   "outputs": [],
   "source": [
    "from transformers import AutoTokenizer\n",
    "import torch\n",
    "\n"
   ]
  },
  {
   "cell_type": "code",
   "execution_count": 14,
   "metadata": {
    "executionInfo": {
     "elapsed": 40,
     "status": "ok",
     "timestamp": 1739199234864,
     "user": {
      "displayName": "Anh Bui Duc",
      "userId": "05186064674968086324"
     },
     "user_tz": -420
    },
    "id": "XJYL1LKIY5fB"
   },
   "outputs": [],
   "source": [
    "device = torch.device('cuda' if torch.cuda.is_available() else 'cpu')\n",
    "\n",
    "# custom_cache_dir = \"D:/app/llm-model\"\n",
    "model_ckpt = \"huawei-noah/TinyBERT_General_4L_312D\""
   ]
  },
  {
   "cell_type": "code",
   "execution_count": 15,
   "metadata": {
    "colab": {
     "base_uri": "https://localhost:8080/",
     "height": 81,
     "referenced_widgets": [
      "8b58d46b6ef84ba4b9e66917e1cfaec0",
      "64960bfe0c984ca6a6a4ea81ad84d610",
      "6c0b60cf7fa9467c8269f76c6d0b2f39",
      "bd05cea1966f439e8261ae7966b78a46",
      "65a1a0c89c9b48b1b399cf68496603cf",
      "3dfc7b7634c749838710f6765e1bb4cc",
      "6ba8458f04db4f20b27cd0ae8e258bc0",
      "dcb123d565894afb8e19d3173d0cb708",
      "71fbfc8db5ca4d479a98d7e3c9adb3ca",
      "f3c68c953a26475a8a5b831ace0f5ad6",
      "d985bd9b43ff477c9b7ca72055c1de24",
      "6b2fec28c44b4cdd98a2203edcb0a9a2",
      "5f8ad29626764e8790d1b8a5bcfd0ea5",
      "3b66a8cea2104ca7a256ccfa6fccbd01",
      "5d82d1e619f548cc8702b88838ae73d9",
      "cdd4a28139e04ee0bfe5d64a3575a0d2",
      "46d105c501354fbda3d2bd0468571bae",
      "7ebfd276c97d4a19abefe05209bfd27b",
      "06da32e408c24e448b4d61d886b24e0f",
      "1f91f2154a9b474fa399aae8c0ccf766",
      "2345d968d2254e429f313e4af3e472f1",
      "377d96e3517c48c19a83c81e5160f935"
     ]
    },
    "executionInfo": {
     "elapsed": 3004,
     "status": "ok",
     "timestamp": 1739199237871,
     "user": {
      "displayName": "Anh Bui Duc",
      "userId": "05186064674968086324"
     },
     "user_tz": -420
    },
    "id": "EZuXCyBsY5fB",
    "outputId": "2caf2c2f-6969-41d3-faba-3fbcfcb58052"
   },
   "outputs": [
    {
     "data": {
      "application/vnd.jupyter.widget-view+json": {
       "model_id": "8b58d46b6ef84ba4b9e66917e1cfaec0",
       "version_major": 2,
       "version_minor": 0
      },
      "text/plain": [
       "config.json:   0%|          | 0.00/409 [00:00<?, ?B/s]"
      ]
     },
     "metadata": {},
     "output_type": "display_data"
    },
    {
     "data": {
      "application/vnd.jupyter.widget-view+json": {
       "model_id": "6b2fec28c44b4cdd98a2203edcb0a9a2",
       "version_major": 2,
       "version_minor": 0
      },
      "text/plain": [
       "vocab.txt:   0%|          | 0.00/232k [00:00<?, ?B/s]"
      ]
     },
     "metadata": {},
     "output_type": "display_data"
    }
   ],
   "source": [
    "# tokenizer = AutoTokenizer.from_pretrained(model_ckpt, cache_dir=custom_cache_dir)\n",
    "tokenizer = AutoTokenizer.from_pretrained(model_ckpt)\n"
   ]
  },
  {
   "cell_type": "code",
   "execution_count": 16,
   "metadata": {
    "colab": {
     "base_uri": "https://localhost:8080/",
     "height": 81,
     "referenced_widgets": [
      "a9a434f64273439499d8fa5ec57479e2",
      "2a8cf7a5ec534aab879ad84102e733d9",
      "c409c78d2e0e43fea899c1a39cf4b36b",
      "ae4a016d27094afea1b17943caabe57a",
      "06708aacac974b2a8bff7f65848822a0",
      "2e7735a3ed294620b71e3b16ab161ec4",
      "73b05ade02064dccb3e05ebe67958a2f",
      "b4a4f733d4d044c1a36c3341b6ce9746",
      "ac411bb313c14a3bae6a688d5f20e809",
      "f43051bfc66f4d00993aef4792fc4b89",
      "ff6832f595e04db1ba60bccb5adf691d",
      "a84af2c11c9d44f2bdbe2a6c7915091c",
      "ae2d3c0134994a21a2ed7dffe2dcb69e",
      "38c4f2daa97b4ddc9d6c866d045f3b69",
      "e618f4e584de46208fcf5daefc9b14c5",
      "5d8780c1a5f64fad98af30fef30f9597",
      "abd281bb4e074390b713595f369f6886",
      "83c4e4c7349e4807be9553541fdc9fd9",
      "80d03a2984064cb6bfa963a0b7a0a776",
      "54df2f8139514ac78ffc43c18bf7581d",
      "63ef6c434a6f4c2cb4abf3a74c76f8b6",
      "91f2419dc06e4dc9b51fee560141fb56"
     ]
    },
    "executionInfo": {
     "elapsed": 51151,
     "status": "ok",
     "timestamp": 1739199289029,
     "user": {
      "displayName": "Anh Bui Duc",
      "userId": "05186064674968086324"
     },
     "user_tz": -420
    },
    "id": "akk41j17Y5fB",
    "outputId": "1fbf2e28-3610-41cc-9879-21ca79c22944"
   },
   "outputs": [
    {
     "data": {
      "application/vnd.jupyter.widget-view+json": {
       "model_id": "a9a434f64273439499d8fa5ec57479e2",
       "version_major": 2,
       "version_minor": 0
      },
      "text/plain": [
       "Map:   0%|          | 0/35000 [00:00<?, ? examples/s]"
      ]
     },
     "metadata": {},
     "output_type": "display_data"
    },
    {
     "data": {
      "application/vnd.jupyter.widget-view+json": {
       "model_id": "a84af2c11c9d44f2bdbe2a6c7915091c",
       "version_major": 2,
       "version_minor": 0
      },
      "text/plain": [
       "Map:   0%|          | 0/15000 [00:00<?, ? examples/s]"
      ]
     },
     "metadata": {},
     "output_type": "display_data"
    }
   ],
   "source": [
    "tokenizer(dataset['train'][0]['review'])\n",
    "\n",
    "def tokenize(batch):\n",
    "    temp = tokenizer(batch['review'], padding=True, truncation=True, max_length=300)\n",
    "    return temp\n",
    "\n",
    "dataset = dataset.map(tokenize, batched=True, batch_size=None)"
   ]
  },
  {
   "cell_type": "code",
   "execution_count": 17,
   "metadata": {
    "colab": {
     "base_uri": "https://localhost:8080/"
    },
    "executionInfo": {
     "elapsed": 22,
     "status": "ok",
     "timestamp": 1739199289052,
     "user": {
      "displayName": "Anh Bui Duc",
      "userId": "05186064674968086324"
     },
     "user_tz": -420
    },
    "id": "mHn7LkVrY5fC",
    "outputId": "87d87b2a-b53b-4526-ad22-eafd7769969d"
   },
   "outputs": [
    {
     "data": {
      "text/plain": [
       "dict_keys(['review', 'sentiment', 'label', 'input_ids', 'token_type_ids', 'attention_mask'])"
      ]
     },
     "execution_count": 17,
     "metadata": {},
     "output_type": "execute_result"
    }
   ],
   "source": [
    "dataset['train'][0].keys()"
   ]
  },
  {
   "cell_type": "markdown",
   "metadata": {
    "id": "BPfbfD9eY5fC"
   },
   "source": [
    "### Model evaluation\n",
    "https://huggingface.co/docs/transformers/en/tasks/sequence_classification#evaluate"
   ]
  },
  {
   "cell_type": "code",
   "execution_count": 18,
   "metadata": {
    "colab": {
     "base_uri": "https://localhost:8080/"
    },
    "executionInfo": {
     "elapsed": 2819,
     "status": "ok",
     "timestamp": 1739199291871,
     "user": {
      "displayName": "Anh Bui Duc",
      "userId": "05186064674968086324"
     },
     "user_tz": -420
    },
    "id": "c8CNzqB7Z6vR",
    "outputId": "46f7a642-2514-4ec3-8a60-6b24eae32c67"
   },
   "outputs": [
    {
     "name": "stdout",
     "output_type": "stream",
     "text": [
      "Collecting evaluate\n",
      "  Downloading evaluate-0.4.3-py3-none-any.whl.metadata (9.2 kB)\n",
      "Requirement already satisfied: datasets>=2.0.0 in /usr/local/lib/python3.11/dist-packages (from evaluate) (3.2.0)\n",
      "Requirement already satisfied: numpy>=1.17 in /usr/local/lib/python3.11/dist-packages (from evaluate) (1.26.4)\n",
      "Requirement already satisfied: dill in /usr/local/lib/python3.11/dist-packages (from evaluate) (0.3.8)\n",
      "Requirement already satisfied: pandas in /usr/local/lib/python3.11/dist-packages (from evaluate) (2.2.2)\n",
      "Requirement already satisfied: requests>=2.19.0 in /usr/local/lib/python3.11/dist-packages (from evaluate) (2.32.3)\n",
      "Requirement already satisfied: tqdm>=4.62.1 in /usr/local/lib/python3.11/dist-packages (from evaluate) (4.67.1)\n",
      "Requirement already satisfied: xxhash in /usr/local/lib/python3.11/dist-packages (from evaluate) (3.5.0)\n",
      "Requirement already satisfied: multiprocess in /usr/local/lib/python3.11/dist-packages (from evaluate) (0.70.16)\n",
      "Requirement already satisfied: fsspec>=2021.05.0 in /usr/local/lib/python3.11/dist-packages (from fsspec[http]>=2021.05.0->evaluate) (2024.9.0)\n",
      "Requirement already satisfied: huggingface-hub>=0.7.0 in /usr/local/lib/python3.11/dist-packages (from evaluate) (0.28.1)\n",
      "Requirement already satisfied: packaging in /usr/local/lib/python3.11/dist-packages (from evaluate) (24.2)\n",
      "Requirement already satisfied: filelock in /usr/local/lib/python3.11/dist-packages (from datasets>=2.0.0->evaluate) (3.17.0)\n",
      "Requirement already satisfied: pyarrow>=15.0.0 in /usr/local/lib/python3.11/dist-packages (from datasets>=2.0.0->evaluate) (17.0.0)\n",
      "Requirement already satisfied: aiohttp in /usr/local/lib/python3.11/dist-packages (from datasets>=2.0.0->evaluate) (3.11.11)\n",
      "Requirement already satisfied: pyyaml>=5.1 in /usr/local/lib/python3.11/dist-packages (from datasets>=2.0.0->evaluate) (6.0.2)\n",
      "Requirement already satisfied: typing-extensions>=3.7.4.3 in /usr/local/lib/python3.11/dist-packages (from huggingface-hub>=0.7.0->evaluate) (4.12.2)\n",
      "Requirement already satisfied: charset-normalizer<4,>=2 in /usr/local/lib/python3.11/dist-packages (from requests>=2.19.0->evaluate) (3.4.1)\n",
      "Requirement already satisfied: idna<4,>=2.5 in /usr/local/lib/python3.11/dist-packages (from requests>=2.19.0->evaluate) (3.10)\n",
      "Requirement already satisfied: urllib3<3,>=1.21.1 in /usr/local/lib/python3.11/dist-packages (from requests>=2.19.0->evaluate) (2.3.0)\n",
      "Requirement already satisfied: certifi>=2017.4.17 in /usr/local/lib/python3.11/dist-packages (from requests>=2.19.0->evaluate) (2025.1.31)\n",
      "Requirement already satisfied: python-dateutil>=2.8.2 in /usr/local/lib/python3.11/dist-packages (from pandas->evaluate) (2.8.2)\n",
      "Requirement already satisfied: pytz>=2020.1 in /usr/local/lib/python3.11/dist-packages (from pandas->evaluate) (2025.1)\n",
      "Requirement already satisfied: tzdata>=2022.7 in /usr/local/lib/python3.11/dist-packages (from pandas->evaluate) (2025.1)\n",
      "Requirement already satisfied: aiohappyeyeballs>=2.3.0 in /usr/local/lib/python3.11/dist-packages (from aiohttp->datasets>=2.0.0->evaluate) (2.4.4)\n",
      "Requirement already satisfied: aiosignal>=1.1.2 in /usr/local/lib/python3.11/dist-packages (from aiohttp->datasets>=2.0.0->evaluate) (1.3.2)\n",
      "Requirement already satisfied: attrs>=17.3.0 in /usr/local/lib/python3.11/dist-packages (from aiohttp->datasets>=2.0.0->evaluate) (25.1.0)\n",
      "Requirement already satisfied: frozenlist>=1.1.1 in /usr/local/lib/python3.11/dist-packages (from aiohttp->datasets>=2.0.0->evaluate) (1.5.0)\n",
      "Requirement already satisfied: multidict<7.0,>=4.5 in /usr/local/lib/python3.11/dist-packages (from aiohttp->datasets>=2.0.0->evaluate) (6.1.0)\n",
      "Requirement already satisfied: propcache>=0.2.0 in /usr/local/lib/python3.11/dist-packages (from aiohttp->datasets>=2.0.0->evaluate) (0.2.1)\n",
      "Requirement already satisfied: yarl<2.0,>=1.17.0 in /usr/local/lib/python3.11/dist-packages (from aiohttp->datasets>=2.0.0->evaluate) (1.18.3)\n",
      "Requirement already satisfied: six>=1.5 in /usr/local/lib/python3.11/dist-packages (from python-dateutil>=2.8.2->pandas->evaluate) (1.17.0)\n",
      "Downloading evaluate-0.4.3-py3-none-any.whl (84 kB)\n",
      "\u001b[2K   \u001b[90m━━━━━━━━━━━━━━━━━━━━━━━━━━━━━━━━━━━━━━━━\u001b[0m \u001b[32m84.0/84.0 kB\u001b[0m \u001b[31m3.2 MB/s\u001b[0m eta \u001b[36m0:00:00\u001b[0m\n",
      "\u001b[?25hInstalling collected packages: evaluate\n",
      "Successfully installed evaluate-0.4.3\n"
     ]
    }
   ],
   "source": [
    "!pip install evaluate"
   ]
  },
  {
   "cell_type": "code",
   "execution_count": 19,
   "metadata": {
    "executionInfo": {
     "elapsed": 4996,
     "status": "ok",
     "timestamp": 1739199296875,
     "user": {
      "displayName": "Anh Bui Duc",
      "userId": "05186064674968086324"
     },
     "user_tz": -420
    },
    "id": "ClpVYdssY5fC"
   },
   "outputs": [],
   "source": [
    "import evaluate\n",
    "import numpy as np"
   ]
  },
  {
   "cell_type": "code",
   "execution_count": 20,
   "metadata": {
    "colab": {
     "base_uri": "https://localhost:8080/",
     "height": 49,
     "referenced_widgets": [
      "df2df16839034224a0fcc12747684de6",
      "6936b728fe1c4660b7fbecba98ddcda9",
      "b46bfc8341ad4a37bc7c451fdb2556e2",
      "b8fc901d2e364bf185ed9c3cb9e70c9f",
      "d4411627509c4eed907471e56423b627",
      "797deb2ce0c346cb8b8d1bb96032a8da",
      "3c251229afca42cca4053df42e1cc941",
      "8b9211d12a8e4fe897081d4554a81b0f",
      "0594435293fd44b1956b2a07444e3d74",
      "f3fa01b1650b4a72b52a6f0d96a5ba6d",
      "bca7dc03c49742e0aea27b7b97736059"
     ]
    },
    "executionInfo": {
     "elapsed": 879,
     "status": "ok",
     "timestamp": 1739199297756,
     "user": {
      "displayName": "Anh Bui Duc",
      "userId": "05186064674968086324"
     },
     "user_tz": -420
    },
    "id": "twm4N1N2Y5fD",
    "outputId": "680f93ef-f868-48a9-bc9d-25d72f6d7476"
   },
   "outputs": [
    {
     "data": {
      "application/vnd.jupyter.widget-view+json": {
       "model_id": "df2df16839034224a0fcc12747684de6",
       "version_major": 2,
       "version_minor": 0
      },
      "text/plain": [
       "Downloading builder script:   0%|          | 0.00/4.20k [00:00<?, ?B/s]"
      ]
     },
     "metadata": {},
     "output_type": "display_data"
    }
   ],
   "source": [
    "accuracy = evaluate.load(\"accuracy\")\n",
    "\n",
    "def compute_metrics(eval_pred):\n",
    "    predictions, labels = eval_pred\n",
    "    predictions = np.argmax(predictions, axis=1)\n",
    "    return accuracy.compute(predictions=predictions, references=labels)"
   ]
  },
  {
   "cell_type": "code",
   "execution_count": 20,
   "metadata": {
    "executionInfo": {
     "elapsed": 51,
     "status": "ok",
     "timestamp": 1739199297811,
     "user": {
      "displayName": "Anh Bui Duc",
      "userId": "05186064674968086324"
     },
     "user_tz": -420
    },
    "id": "FOiw6HCkY5fD"
   },
   "outputs": [],
   "source": []
  },
  {
   "cell_type": "markdown",
   "metadata": {
    "id": "kMZxUTK0Y5fD"
   },
   "source": [
    "![image.png](data:image/png;base64,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)"
   ]
  },
  {
   "cell_type": "code",
   "execution_count": 21,
   "metadata": {
    "executionInfo": {
     "elapsed": 1586,
     "status": "ok",
     "timestamp": 1739199299396,
     "user": {
      "displayName": "Anh Bui Duc",
      "userId": "05186064674968086324"
     },
     "user_tz": -420
    },
    "id": "F6DTdMgNY5fD"
   },
   "outputs": [],
   "source": [
    "from transformers import AutoModelForSequenceClassification, TrainingArguments, Trainer\n"
   ]
  },
  {
   "cell_type": "code",
   "execution_count": 22,
   "metadata": {
    "colab": {
     "base_uri": "https://localhost:8080/",
     "height": 104,
     "referenced_widgets": [
      "7ff7ac53267640d590817074538d134b",
      "347c79d11a474281950033f3c5c94526",
      "55dbe078013e429f84f72a481ee2d08b",
      "6d4d946bde8244b98b780bafb894d6ab",
      "dc9f7053277a4c25b73ce598342eb976",
      "4137767373674046a30893dc5490b4b9",
      "14e1cb4ffad44cae9e892ff305fddb62",
      "bcb4b812cc884b19a58dd19c81025a99",
      "74e0cb38c1b44fbead5140ffd229677f",
      "57236ff7b075498ba5e298a5ccae7460",
      "6732e0271cc54179bed14f147a9cb74d"
     ]
    },
    "executionInfo": {
     "elapsed": 2589,
     "status": "ok",
     "timestamp": 1739199301987,
     "user": {
      "displayName": "Anh Bui Duc",
      "userId": "05186064674968086324"
     },
     "user_tz": -420
    },
    "id": "HO-pMN_aalFf",
    "outputId": "107e4272-c89a-41b2-d0d9-9e68459885f2"
   },
   "outputs": [
    {
     "data": {
      "application/vnd.jupyter.widget-view+json": {
       "model_id": "7ff7ac53267640d590817074538d134b",
       "version_major": 2,
       "version_minor": 0
      },
      "text/plain": [
       "pytorch_model.bin:   0%|          | 0.00/62.7M [00:00<?, ?B/s]"
      ]
     },
     "metadata": {},
     "output_type": "display_data"
    },
    {
     "name": "stderr",
     "output_type": "stream",
     "text": [
      "Some weights of BertForSequenceClassification were not initialized from the model checkpoint at huawei-noah/TinyBERT_General_4L_312D and are newly initialized: ['classifier.bias', 'classifier.weight']\n",
      "You should probably TRAIN this model on a down-stream task to be able to use it for predictions and inference.\n"
     ]
    }
   ],
   "source": [
    "model = AutoModelForSequenceClassification.from_pretrained(\n",
    "    model_ckpt,\n",
    "    num_labels=len(labels2id),\n",
    "    label2id=labels2id,\n",
    "    id2label=id2labels,\n",
    "    # cache_dir=custom_cache_dir\n",
    ")"
   ]
  },
  {
   "cell_type": "code",
   "execution_count": 23,
   "metadata": {
    "colab": {
     "base_uri": "https://localhost:8080/",
     "height": 49,
     "referenced_widgets": [
      "8e99fa9deb1d4e179fce36056a18f2d1",
      "03cfc22f7c4845bb974c4858e4c908de",
      "b0edf27bce71492b9c38e77d1b035d02",
      "b4535a10666e49099d39e0159b6b34d2",
      "3a36101c0e1e45c49076c6360470c528",
      "5120d008d2664b3aac961897099065a7",
      "84f0301488a5433abcc59c41d0bc5b61",
      "7250397a01d54e699ac4e63d38aeca57",
      "1db53545fc384fb7808c0df6f691908f",
      "f5badb739f2e427cb35c7ba0ff580076",
      "b6d0242297db4d23b15a57b06e5d593a"
     ]
    },
    "executionInfo": {
     "elapsed": 6555,
     "status": "ok",
     "timestamp": 1739199308543,
     "user": {
      "displayName": "Anh Bui Duc",
      "userId": "05186064674968086324"
     },
     "user_tz": -420
    },
    "id": "ukFjw3MgasG7",
    "outputId": "bd8c017c-1929-44a6-c677-12584da00550"
   },
   "outputs": [
    {
     "data": {
      "application/vnd.jupyter.widget-view+json": {
       "model_id": "8e99fa9deb1d4e179fce36056a18f2d1",
       "version_major": 2,
       "version_minor": 0
      },
      "text/plain": [
       "model.safetensors:   0%|          | 0.00/62.7M [00:00<?, ?B/s]"
      ]
     },
     "metadata": {},
     "output_type": "display_data"
    }
   ],
   "source": [
    "args = TrainingArguments(\n",
    "    output_dir='train_dir',\n",
    "    overwrite_output_dir=True,\n",
    "    num_train_epochs=3,\n",
    "    learning_rate=2e-5,\n",
    "    per_device_train_batch_size=32,\n",
    "    per_device_eval_batch_size=32,\n",
    "    evaluation_strategy='epoch',\n",
    ")\n",
    "\n",
    "trainer = Trainer(\n",
    "    model=model,\n",
    "    args=args,\n",
    "    train_dataset=dataset['train'],\n",
    "    eval_dataset=dataset['test'],\n",
    "    tokenizer=tokenizer\n",
    "\n",
    ")"
   ]
  },
  {
   "cell_type": "code",
   "execution_count": 24,
   "metadata": {
    "colab": {
     "base_uri": "https://localhost:8080/",
     "height": 536
    },
    "executionInfo": {
     "elapsed": 1677908,
     "status": "ok",
     "timestamp": 1739200986452,
     "user": {
      "displayName": "Anh Bui Duc",
      "userId": "05186064674968086324"
     },
     "user_tz": -420
    },
    "id": "aqWN4eFYauw0",
    "outputId": "e1786fcb-e197-446f-913e-3068bfbfab3a"
   },
   "outputs": [
    {
     "name": "stderr",
     "output_type": "stream",
     "text": [
      "\u001b[34m\u001b[1mwandb\u001b[0m: \u001b[33mWARNING\u001b[0m The `run_name` is currently set to the same value as `TrainingArguments.output_dir`. If this was not intended, please specify a different run name by setting the `TrainingArguments.run_name` parameter.\n"
     ]
    },
    {
     "data": {
      "application/javascript": "\n        window._wandbApiKey = new Promise((resolve, reject) => {\n            function loadScript(url) {\n            return new Promise(function(resolve, reject) {\n                let newScript = document.createElement(\"script\");\n                newScript.onerror = reject;\n                newScript.onload = resolve;\n                document.body.appendChild(newScript);\n                newScript.src = url;\n            });\n            }\n            loadScript(\"https://cdn.jsdelivr.net/npm/postmate/build/postmate.min.js\").then(() => {\n            const iframe = document.createElement('iframe')\n            iframe.style.cssText = \"width:0;height:0;border:none\"\n            document.body.appendChild(iframe)\n            const handshake = new Postmate({\n                container: iframe,\n                url: 'https://wandb.ai/authorize'\n            });\n            const timeout = setTimeout(() => reject(\"Couldn't auto authenticate\"), 5000)\n            handshake.then(function(child) {\n                child.on('authorize', data => {\n                    clearTimeout(timeout)\n                    resolve(data)\n                });\n            });\n            })\n        });\n    ",
      "text/plain": [
       "<IPython.core.display.Javascript object>"
      ]
     },
     "metadata": {},
     "output_type": "display_data"
    },
    {
     "name": "stderr",
     "output_type": "stream",
     "text": [
      "\u001b[34m\u001b[1mwandb\u001b[0m: Logging into wandb.ai. (Learn how to deploy a W&B server locally: https://wandb.me/wandb-server)\n",
      "\u001b[34m\u001b[1mwandb\u001b[0m: You can find your API key in your browser here: https://wandb.ai/authorize\n",
      "wandb: Paste an API key from your profile and hit enter:"
     ]
    },
    {
     "name": "stdout",
     "output_type": "stream",
     "text": [
      " ··········\n"
     ]
    },
    {
     "name": "stderr",
     "output_type": "stream",
     "text": [
      "\u001b[34m\u001b[1mwandb\u001b[0m: \u001b[33mWARNING\u001b[0m If you're specifying your api key in code, ensure this code is not shared publicly.\n",
      "\u001b[34m\u001b[1mwandb\u001b[0m: \u001b[33mWARNING\u001b[0m Consider setting the WANDB_API_KEY environment variable, or running `wandb login` from the command line.\n",
      "\u001b[34m\u001b[1mwandb\u001b[0m: Appending key for api.wandb.ai to your netrc file: /root/.netrc\n",
      "\u001b[34m\u001b[1mwandb\u001b[0m: Currently logged in as: \u001b[33mbdanhcse-work\u001b[0m (\u001b[33mbdanhcse-work-ho-chi-minh-university-of-technology\u001b[0m) to \u001b[32mhttps://api.wandb.ai\u001b[0m. Use \u001b[1m`wandb login --relogin`\u001b[0m to force relogin\n",
      "\u001b[34m\u001b[1mwandb\u001b[0m: Using wandb-core as the SDK backend.  Please refer to https://wandb.me/wandb-core for more information.\n"
     ]
    },
    {
     "data": {
      "text/html": [
       "Tracking run with wandb version 0.19.6"
      ],
      "text/plain": [
       "<IPython.core.display.HTML object>"
      ]
     },
     "metadata": {},
     "output_type": "display_data"
    },
    {
     "data": {
      "text/html": [
       "Run data is saved locally in <code>/content/drive/MyDrive/AI-2025-study/wandb/run-20250210_151124-vird0qc6</code>"
      ],
      "text/plain": [
       "<IPython.core.display.HTML object>"
      ]
     },
     "metadata": {},
     "output_type": "display_data"
    },
    {
     "data": {
      "text/html": [
       "Syncing run <strong><a href='https://wandb.ai/bdanhcse-work-ho-chi-minh-university-of-technology/huggingface/runs/vird0qc6' target=\"_blank\">train_dir</a></strong> to <a href='https://wandb.ai/bdanhcse-work-ho-chi-minh-university-of-technology/huggingface' target=\"_blank\">Weights & Biases</a> (<a href='https://wandb.me/developer-guide' target=\"_blank\">docs</a>)<br>"
      ],
      "text/plain": [
       "<IPython.core.display.HTML object>"
      ]
     },
     "metadata": {},
     "output_type": "display_data"
    },
    {
     "data": {
      "text/html": [
       " View project at <a href='https://wandb.ai/bdanhcse-work-ho-chi-minh-university-of-technology/huggingface' target=\"_blank\">https://wandb.ai/bdanhcse-work-ho-chi-minh-university-of-technology/huggingface</a>"
      ],
      "text/plain": [
       "<IPython.core.display.HTML object>"
      ]
     },
     "metadata": {},
     "output_type": "display_data"
    },
    {
     "data": {
      "text/html": [
       " View run at <a href='https://wandb.ai/bdanhcse-work-ho-chi-minh-university-of-technology/huggingface/runs/vird0qc6' target=\"_blank\">https://wandb.ai/bdanhcse-work-ho-chi-minh-university-of-technology/huggingface/runs/vird0qc6</a>"
      ],
      "text/plain": [
       "<IPython.core.display.HTML object>"
      ]
     },
     "metadata": {},
     "output_type": "display_data"
    },
    {
     "data": {
      "text/html": [
       "\n",
       "    <div>\n",
       "      \n",
       "      <progress value='3282' max='3282' style='width:300px; height:20px; vertical-align: middle;'></progress>\n",
       "      [3282/3282 11:40, Epoch 3/3]\n",
       "    </div>\n",
       "    <table border=\"1\" class=\"dataframe\">\n",
       "  <thead>\n",
       " <tr style=\"text-align: left;\">\n",
       "      <th>Epoch</th>\n",
       "      <th>Training Loss</th>\n",
       "      <th>Validation Loss</th>\n",
       "    </tr>\n",
       "  </thead>\n",
       "  <tbody>\n",
       "    <tr>\n",
       "      <td>1</td>\n",
       "      <td>0.349000</td>\n",
       "      <td>0.321041</td>\n",
       "    </tr>\n",
       "    <tr>\n",
       "      <td>2</td>\n",
       "      <td>0.289100</td>\n",
       "      <td>0.308124</td>\n",
       "    </tr>\n",
       "    <tr>\n",
       "      <td>3</td>\n",
       "      <td>0.251400</td>\n",
       "      <td>0.305827</td>\n",
       "    </tr>\n",
       "  </tbody>\n",
       "</table><p>"
      ],
      "text/plain": [
       "<IPython.core.display.HTML object>"
      ]
     },
     "metadata": {},
     "output_type": "display_data"
    },
    {
     "data": {
      "text/plain": [
       "TrainOutput(global_step=3282, training_loss=0.3153106833579408, metrics={'train_runtime': 1677.4072, 'train_samples_per_second': 62.597, 'train_steps_per_second': 1.957, 'total_flos': 882184338000000.0, 'train_loss': 0.3153106833579408, 'epoch': 3.0})"
      ]
     },
     "execution_count": 24,
     "metadata": {},
     "output_type": "execute_result"
    }
   ],
   "source": [
    "trainer.train()"
   ]
  },
  {
   "cell_type": "code",
   "execution_count": 25,
   "metadata": {
    "colab": {
     "base_uri": "https://localhost:8080/",
     "height": 124
    },
    "executionInfo": {
     "elapsed": 26295,
     "status": "ok",
     "timestamp": 1739201012727,
     "user": {
      "displayName": "Anh Bui Duc",
      "userId": "05186064674968086324"
     },
     "user_tz": -420
    },
    "id": "HTP3isQ6a1G-",
    "outputId": "5d5feaad-a699-4b25-9725-92c2148f3873"
   },
   "outputs": [
    {
     "data": {
      "text/html": [
       "\n",
       "    <div>\n",
       "      \n",
       "      <progress value='469' max='469' style='width:300px; height:20px; vertical-align: middle;'></progress>\n",
       "      [469/469 00:26]\n",
       "    </div>\n",
       "    "
      ],
      "text/plain": [
       "<IPython.core.display.HTML object>"
      ]
     },
     "metadata": {},
     "output_type": "display_data"
    },
    {
     "data": {
      "text/plain": [
       "{'eval_loss': 0.30582714080810547,\n",
       " 'eval_runtime': 26.2983,\n",
       " 'eval_samples_per_second': 570.378,\n",
       " 'eval_steps_per_second': 17.834,\n",
       " 'epoch': 3.0}"
      ]
     },
     "execution_count": 25,
     "metadata": {},
     "output_type": "execute_result"
    }
   ],
   "source": [
    "trainer.evaluate()"
   ]
  },
  {
   "cell_type": "markdown",
   "metadata": {
    "id": "1drhz049WAZ8"
   },
   "source": [
    "## Model save and load for inference"
   ]
  },
  {
   "cell_type": "code",
   "execution_count": 27,
   "metadata": {
    "executionInfo": {
     "elapsed": 427,
     "status": "ok",
     "timestamp": 1739202180075,
     "user": {
      "displayName": "Anh Bui Duc",
      "userId": "05186064674968086324"
     },
     "user_tz": -420
    },
    "id": "F3NaBfZxjjEf"
   },
   "outputs": [],
   "source": [
    "trainer.save_model('tinybert-sentiment-analysis')"
   ]
  },
  {
   "cell_type": "code",
   "execution_count": 28,
   "metadata": {
    "executionInfo": {
     "elapsed": 41,
     "status": "ok",
     "timestamp": 1739204720695,
     "user": {
      "displayName": "Anh Bui Duc",
      "userId": "05186064674968086324"
     },
     "user_tz": -420
    },
    "id": "Pu3qg-1EWQ8y"
   },
   "outputs": [],
   "source": [
    "data = [\n",
    "    'this movie was horrible, the plot was really boring. acting was okay',\n",
    "    'the movie is really sucked. there is not plot and acting was bad',\n",
    "    'what a beautiful movie. great plot. acting was good. will see it again'\n",
    "]"
   ]
  },
  {
   "cell_type": "code",
   "execution_count": 29,
   "metadata": {
    "executionInfo": {
     "elapsed": 42,
     "status": "ok",
     "timestamp": 1739204742368,
     "user": {
      "displayName": "Anh Bui Duc",
      "userId": "05186064674968086324"
     },
     "user_tz": -420
    },
    "id": "EXUO2HelrfcX"
   },
   "outputs": [],
   "source": [
    "from transformers import pipeline"
   ]
  },
  {
   "cell_type": "code",
   "execution_count": 30,
   "metadata": {
    "colab": {
     "base_uri": "https://localhost:8080/"
    },
    "executionInfo": {
     "elapsed": 904,
     "status": "ok",
     "timestamp": 1739204805596,
     "user": {
      "displayName": "Anh Bui Duc",
      "userId": "05186064674968086324"
     },
     "user_tz": -420
    },
    "id": "GoDHiGgGrkvB",
    "outputId": "6788b864-de22-4b17-989f-1025fa32ac0c"
   },
   "outputs": [
    {
     "name": "stderr",
     "output_type": "stream",
     "text": [
      "Device set to use cuda\n"
     ]
    }
   ],
   "source": [
    "classifier = pipeline('text-classification', model='tinybert-sentiment-analysis', device='cuda')"
   ]
  },
  {
   "cell_type": "code",
   "execution_count": 31,
   "metadata": {
    "colab": {
     "base_uri": "https://localhost:8080/"
    },
    "executionInfo": {
     "elapsed": 131,
     "status": "ok",
     "timestamp": 1739204836959,
     "user": {
      "displayName": "Anh Bui Duc",
      "userId": "05186064674968086324"
     },
     "user_tz": -420
    },
    "id": "Y7dNHw-brz9S",
    "outputId": "25a5b929-866c-42af-ee6d-96fa8683714e"
   },
   "outputs": [
    {
     "data": {
      "text/plain": [
       "[{'label': 'negative', 'score': 0.990210771560669},\n",
       " {'label': 'negative', 'score': 0.9897408485412598},\n",
       " {'label': 'positive', 'score': 0.9903762936592102}]"
      ]
     },
     "execution_count": 31,
     "metadata": {},
     "output_type": "execute_result"
    }
   ],
   "source": [
    "classifier(data)"
   ]
  },
  {
   "cell_type": "markdown",
   "metadata": {},
   "source": [
    "### Push model to S3\n"
   ]
  },
  {
   "cell_type": "code",
   "execution_count": 1,
   "metadata": {
    "id": "a7uuJAbpr7zo"
   },
   "outputs": [],
   "source": [
    "import boto3"
   ]
  },
  {
   "cell_type": "code",
   "execution_count": 13,
   "metadata": {},
   "outputs": [],
   "source": [
    "import logging\n",
    "import boto3\n",
    "from botocore.exceptions import ClientError\n",
    "import os\n",
    "s3 = boto3.client('s3')\n",
    "\n",
    "def create_bucket(bucket_name, region=None):\n",
    "    \"\"\"Create an S3 bucket in a specified region\n",
    "\n",
    "    If a region is not specified, the bucket is created in the S3 default\n",
    "    region (us-east-1).\n",
    "\n",
    "    :param bucket_name: Bucket to create\n",
    "    :param region: String region to create bucket in, e.g., 'us-west-2'\n",
    "    :return: True if bucket created, else False\n",
    "    \"\"\"\n",
    "\n",
    "    # Create bucket\n",
    "    if(bucket_exist(bucket_name)):\n",
    "        try:\n",
    "            if region is None:\n",
    "                s3_client = boto3.client('s3')\n",
    "                s3_client.create_bucket(Bucket=bucket_name)\n",
    "            else:\n",
    "                s3_client = boto3.client('s3', region_name=region)\n",
    "                location = {'LocationConstraint': region}\n",
    "                s3_client.create_bucket(Bucket=bucket_name,\n",
    "                                        CreateBucketConfiguration=location)\n",
    "        except ClientError as e:\n",
    "            logging.error(e)\n",
    "            return False\n",
    "        return True\n",
    "    else:\n",
    "        return False\n",
    "\n",
    "def bucket_exist(bucket_name):\n",
    "    response = s3.list_buckets()\n",
    "    buckets = [bucket['Name'] for bucket in response['Buckets']]\n",
    "    if bucket_name not in buckets:\n",
    "        return True\n",
    "    else:\n",
    "        print(\"Bucket is already created!!\")\n",
    "        return False\n"
   ]
  },
  {
   "cell_type": "code",
   "execution_count": 11,
   "metadata": {},
   "outputs": [
    {
     "name": "stdout",
     "output_type": "stream",
     "text": [
      "Bucket is already created!!\n"
     ]
    },
    {
     "data": {
      "text/plain": [
       "False"
      ]
     },
     "execution_count": 11,
     "metadata": {},
     "output_type": "execute_result"
    }
   ],
   "source": [
    "bucket_name = 'mlops-anansupercute'\n",
    "region = 'ap-southeast-1'\n",
    "create_bucket(bucket_name=bucket_name, region=region)"
   ]
  },
  {
   "cell_type": "code",
   "execution_count": 12,
   "metadata": {},
   "outputs": [
    {
     "name": "stdout",
     "output_type": "stream",
     "text": [
      "Existing buckets:\n",
      "  mlops-anansupercute\n"
     ]
    }
   ],
   "source": [
    "# Retrieve the list of existing buckets\n",
    "s3 = boto3.client('s3')\n",
    "response = s3.list_buckets()\n",
    "\n",
    "# Output the bucket names\n",
    "print('Existing buckets:')\n",
    "for bucket in response['Buckets']:\n",
    "    print(f'  {bucket[\"Name\"]}')"
   ]
  },
  {
   "cell_type": "code",
   "execution_count": null,
   "metadata": {},
   "outputs": [],
   "source": [
    "def upload_directory(directory_path, s3_prefix): \n",
    "    for root, dirs, files in os.walk(directory_path):\n",
    "        for file in files:\n",
    "            file_path = os.path.join(root, file).replace(\"\\\\\", \"/\") \n",
    "            relpath = os.path.relpath(file_path, directory_path)\n",
    "            s3_key = os.path.join(s3_prefix, relpath).replace(\"\\\\\", \"/\") \n",
    "            s3.upload_file(file_path, bucket_name, s3_key)\n",
    "            \n",
    "upload_directory('tinybert-sentiment-analysis', 'ml-models/tinybert-sentiment-analysis')\n"
   ]
  },
  {
   "cell_type": "code",
   "execution_count": null,
   "metadata": {},
   "outputs": [],
   "source": []
  }
 ],
 "metadata": {
  "accelerator": "GPU",
  "colab": {
   "gpuType": "T4",
   "provenance": []
  },
  "kernelspec": {
   "display_name": "base",
   "language": "python",
   "name": "python3"
  },
  "language_info": {
   "codemirror_mode": {
    "name": "ipython",
    "version": 3
   },
   "file_extension": ".py",
   "mimetype": "text/x-python",
   "name": "python",
   "nbconvert_exporter": "python",
   "pygments_lexer": "ipython3",
   "version": "3.11.7"
  },
  "widgets": {
   "application/vnd.jupyter.widget-state+json": {
    "03cfc22f7c4845bb974c4858e4c908de": {
     "model_module": "@jupyter-widgets/controls",
     "model_module_version": "1.5.0",
     "model_name": "HTMLModel",
     "state": {
      "_dom_classes": [],
      "_model_module": "@jupyter-widgets/controls",
      "_model_module_version": "1.5.0",
      "_model_name": "HTMLModel",
      "_view_count": null,
      "_view_module": "@jupyter-widgets/controls",
      "_view_module_version": "1.5.0",
      "_view_name": "HTMLView",
      "description": "",
      "description_tooltip": null,
      "layout": "IPY_MODEL_5120d008d2664b3aac961897099065a7",
      "placeholder": "​",
      "style": "IPY_MODEL_84f0301488a5433abcc59c41d0bc5b61",
      "value": "model.safetensors: 100%"
     }
    },
    "0594435293fd44b1956b2a07444e3d74": {
     "model_module": "@jupyter-widgets/controls",
     "model_module_version": "1.5.0",
     "model_name": "ProgressStyleModel",
     "state": {
      "_model_module": "@jupyter-widgets/controls",
      "_model_module_version": "1.5.0",
      "_model_name": "ProgressStyleModel",
      "_view_count": null,
      "_view_module": "@jupyter-widgets/base",
      "_view_module_version": "1.2.0",
      "_view_name": "StyleView",
      "bar_color": null,
      "description_width": ""
     }
    },
    "06708aacac974b2a8bff7f65848822a0": {
     "model_module": "@jupyter-widgets/base",
     "model_module_version": "1.2.0",
     "model_name": "LayoutModel",
     "state": {
      "_model_module": "@jupyter-widgets/base",
      "_model_module_version": "1.2.0",
      "_model_name": "LayoutModel",
      "_view_count": null,
      "_view_module": "@jupyter-widgets/base",
      "_view_module_version": "1.2.0",
      "_view_name": "LayoutView",
      "align_content": null,
      "align_items": null,
      "align_self": null,
      "border": null,
      "bottom": null,
      "display": null,
      "flex": null,
      "flex_flow": null,
      "grid_area": null,
      "grid_auto_columns": null,
      "grid_auto_flow": null,
      "grid_auto_rows": null,
      "grid_column": null,
      "grid_gap": null,
      "grid_row": null,
      "grid_template_areas": null,
      "grid_template_columns": null,
      "grid_template_rows": null,
      "height": null,
      "justify_content": null,
      "justify_items": null,
      "left": null,
      "margin": null,
      "max_height": null,
      "max_width": null,
      "min_height": null,
      "min_width": null,
      "object_fit": null,
      "object_position": null,
      "order": null,
      "overflow": null,
      "overflow_x": null,
      "overflow_y": null,
      "padding": null,
      "right": null,
      "top": null,
      "visibility": null,
      "width": null
     }
    },
    "06da32e408c24e448b4d61d886b24e0f": {
     "model_module": "@jupyter-widgets/base",
     "model_module_version": "1.2.0",
     "model_name": "LayoutModel",
     "state": {
      "_model_module": "@jupyter-widgets/base",
      "_model_module_version": "1.2.0",
      "_model_name": "LayoutModel",
      "_view_count": null,
      "_view_module": "@jupyter-widgets/base",
      "_view_module_version": "1.2.0",
      "_view_name": "LayoutView",
      "align_content": null,
      "align_items": null,
      "align_self": null,
      "border": null,
      "bottom": null,
      "display": null,
      "flex": null,
      "flex_flow": null,
      "grid_area": null,
      "grid_auto_columns": null,
      "grid_auto_flow": null,
      "grid_auto_rows": null,
      "grid_column": null,
      "grid_gap": null,
      "grid_row": null,
      "grid_template_areas": null,
      "grid_template_columns": null,
      "grid_template_rows": null,
      "height": null,
      "justify_content": null,
      "justify_items": null,
      "left": null,
      "margin": null,
      "max_height": null,
      "max_width": null,
      "min_height": null,
      "min_width": null,
      "object_fit": null,
      "object_position": null,
      "order": null,
      "overflow": null,
      "overflow_x": null,
      "overflow_y": null,
      "padding": null,
      "right": null,
      "top": null,
      "visibility": null,
      "width": null
     }
    },
    "0cd9b52dfbfd4ddf8e4fdfb77e3a07c3": {
     "model_module": "@jupyter-widgets/controls",
     "model_module_version": "1.5.0",
     "model_name": "ProgressStyleModel",
     "state": {
      "_model_module": "@jupyter-widgets/controls",
      "_model_module_version": "1.5.0",
      "_model_name": "ProgressStyleModel",
      "_view_count": null,
      "_view_module": "@jupyter-widgets/base",
      "_view_module_version": "1.2.0",
      "_view_name": "StyleView",
      "bar_color": null,
      "description_width": ""
     }
    },
    "14e1cb4ffad44cae9e892ff305fddb62": {
     "model_module": "@jupyter-widgets/controls",
     "model_module_version": "1.5.0",
     "model_name": "DescriptionStyleModel",
     "state": {
      "_model_module": "@jupyter-widgets/controls",
      "_model_module_version": "1.5.0",
      "_model_name": "DescriptionStyleModel",
      "_view_count": null,
      "_view_module": "@jupyter-widgets/base",
      "_view_module_version": "1.2.0",
      "_view_name": "StyleView",
      "description_width": ""
     }
    },
    "1b27a199309c4d2ab5a5c5be45896399": {
     "model_module": "@jupyter-widgets/base",
     "model_module_version": "1.2.0",
     "model_name": "LayoutModel",
     "state": {
      "_model_module": "@jupyter-widgets/base",
      "_model_module_version": "1.2.0",
      "_model_name": "LayoutModel",
      "_view_count": null,
      "_view_module": "@jupyter-widgets/base",
      "_view_module_version": "1.2.0",
      "_view_name": "LayoutView",
      "align_content": null,
      "align_items": null,
      "align_self": null,
      "border": null,
      "bottom": null,
      "display": null,
      "flex": null,
      "flex_flow": null,
      "grid_area": null,
      "grid_auto_columns": null,
      "grid_auto_flow": null,
      "grid_auto_rows": null,
      "grid_column": null,
      "grid_gap": null,
      "grid_row": null,
      "grid_template_areas": null,
      "grid_template_columns": null,
      "grid_template_rows": null,
      "height": null,
      "justify_content": null,
      "justify_items": null,
      "left": null,
      "margin": null,
      "max_height": null,
      "max_width": null,
      "min_height": null,
      "min_width": null,
      "object_fit": null,
      "object_position": null,
      "order": null,
      "overflow": null,
      "overflow_x": null,
      "overflow_y": null,
      "padding": null,
      "right": null,
      "top": null,
      "visibility": null,
      "width": null
     }
    },
    "1c3ecf04337d49a3996ff7861b2bf132": {
     "model_module": "@jupyter-widgets/controls",
     "model_module_version": "1.5.0",
     "model_name": "HBoxModel",
     "state": {
      "_dom_classes": [],
      "_model_module": "@jupyter-widgets/controls",
      "_model_module_version": "1.5.0",
      "_model_name": "HBoxModel",
      "_view_count": null,
      "_view_module": "@jupyter-widgets/controls",
      "_view_module_version": "1.5.0",
      "_view_name": "HBoxView",
      "box_style": "",
      "children": [
       "IPY_MODEL_5145b53136c54961902805a0e8608f7f",
       "IPY_MODEL_4f5207192e1f4205bcc0306525bd1d62",
       "IPY_MODEL_59071db2c7a945fb9b51bb6e29317873"
      ],
      "layout": "IPY_MODEL_1b27a199309c4d2ab5a5c5be45896399"
     }
    },
    "1db53545fc384fb7808c0df6f691908f": {
     "model_module": "@jupyter-widgets/controls",
     "model_module_version": "1.5.0",
     "model_name": "ProgressStyleModel",
     "state": {
      "_model_module": "@jupyter-widgets/controls",
      "_model_module_version": "1.5.0",
      "_model_name": "ProgressStyleModel",
      "_view_count": null,
      "_view_module": "@jupyter-widgets/base",
      "_view_module_version": "1.2.0",
      "_view_name": "StyleView",
      "bar_color": null,
      "description_width": ""
     }
    },
    "1f91f2154a9b474fa399aae8c0ccf766": {
     "model_module": "@jupyter-widgets/controls",
     "model_module_version": "1.5.0",
     "model_name": "ProgressStyleModel",
     "state": {
      "_model_module": "@jupyter-widgets/controls",
      "_model_module_version": "1.5.0",
      "_model_name": "ProgressStyleModel",
      "_view_count": null,
      "_view_module": "@jupyter-widgets/base",
      "_view_module_version": "1.2.0",
      "_view_name": "StyleView",
      "bar_color": null,
      "description_width": ""
     }
    },
    "2345d968d2254e429f313e4af3e472f1": {
     "model_module": "@jupyter-widgets/base",
     "model_module_version": "1.2.0",
     "model_name": "LayoutModel",
     "state": {
      "_model_module": "@jupyter-widgets/base",
      "_model_module_version": "1.2.0",
      "_model_name": "LayoutModel",
      "_view_count": null,
      "_view_module": "@jupyter-widgets/base",
      "_view_module_version": "1.2.0",
      "_view_name": "LayoutView",
      "align_content": null,
      "align_items": null,
      "align_self": null,
      "border": null,
      "bottom": null,
      "display": null,
      "flex": null,
      "flex_flow": null,
      "grid_area": null,
      "grid_auto_columns": null,
      "grid_auto_flow": null,
      "grid_auto_rows": null,
      "grid_column": null,
      "grid_gap": null,
      "grid_row": null,
      "grid_template_areas": null,
      "grid_template_columns": null,
      "grid_template_rows": null,
      "height": null,
      "justify_content": null,
      "justify_items": null,
      "left": null,
      "margin": null,
      "max_height": null,
      "max_width": null,
      "min_height": null,
      "min_width": null,
      "object_fit": null,
      "object_position": null,
      "order": null,
      "overflow": null,
      "overflow_x": null,
      "overflow_y": null,
      "padding": null,
      "right": null,
      "top": null,
      "visibility": null,
      "width": null
     }
    },
    "2a8cf7a5ec534aab879ad84102e733d9": {
     "model_module": "@jupyter-widgets/controls",
     "model_module_version": "1.5.0",
     "model_name": "HTMLModel",
     "state": {
      "_dom_classes": [],
      "_model_module": "@jupyter-widgets/controls",
      "_model_module_version": "1.5.0",
      "_model_name": "HTMLModel",
      "_view_count": null,
      "_view_module": "@jupyter-widgets/controls",
      "_view_module_version": "1.5.0",
      "_view_name": "HTMLView",
      "description": "",
      "description_tooltip": null,
      "layout": "IPY_MODEL_2e7735a3ed294620b71e3b16ab161ec4",
      "placeholder": "​",
      "style": "IPY_MODEL_73b05ade02064dccb3e05ebe67958a2f",
      "value": "Map: 100%"
     }
    },
    "2e7735a3ed294620b71e3b16ab161ec4": {
     "model_module": "@jupyter-widgets/base",
     "model_module_version": "1.2.0",
     "model_name": "LayoutModel",
     "state": {
      "_model_module": "@jupyter-widgets/base",
      "_model_module_version": "1.2.0",
      "_model_name": "LayoutModel",
      "_view_count": null,
      "_view_module": "@jupyter-widgets/base",
      "_view_module_version": "1.2.0",
      "_view_name": "LayoutView",
      "align_content": null,
      "align_items": null,
      "align_self": null,
      "border": null,
      "bottom": null,
      "display": null,
      "flex": null,
      "flex_flow": null,
      "grid_area": null,
      "grid_auto_columns": null,
      "grid_auto_flow": null,
      "grid_auto_rows": null,
      "grid_column": null,
      "grid_gap": null,
      "grid_row": null,
      "grid_template_areas": null,
      "grid_template_columns": null,
      "grid_template_rows": null,
      "height": null,
      "justify_content": null,
      "justify_items": null,
      "left": null,
      "margin": null,
      "max_height": null,
      "max_width": null,
      "min_height": null,
      "min_width": null,
      "object_fit": null,
      "object_position": null,
      "order": null,
      "overflow": null,
      "overflow_x": null,
      "overflow_y": null,
      "padding": null,
      "right": null,
      "top": null,
      "visibility": null,
      "width": null
     }
    },
    "347c79d11a474281950033f3c5c94526": {
     "model_module": "@jupyter-widgets/controls",
     "model_module_version": "1.5.0",
     "model_name": "HTMLModel",
     "state": {
      "_dom_classes": [],
      "_model_module": "@jupyter-widgets/controls",
      "_model_module_version": "1.5.0",
      "_model_name": "HTMLModel",
      "_view_count": null,
      "_view_module": "@jupyter-widgets/controls",
      "_view_module_version": "1.5.0",
      "_view_name": "HTMLView",
      "description": "",
      "description_tooltip": null,
      "layout": "IPY_MODEL_4137767373674046a30893dc5490b4b9",
      "placeholder": "​",
      "style": "IPY_MODEL_14e1cb4ffad44cae9e892ff305fddb62",
      "value": "pytorch_model.bin: 100%"
     }
    },
    "377d96e3517c48c19a83c81e5160f935": {
     "model_module": "@jupyter-widgets/controls",
     "model_module_version": "1.5.0",
     "model_name": "DescriptionStyleModel",
     "state": {
      "_model_module": "@jupyter-widgets/controls",
      "_model_module_version": "1.5.0",
      "_model_name": "DescriptionStyleModel",
      "_view_count": null,
      "_view_module": "@jupyter-widgets/base",
      "_view_module_version": "1.2.0",
      "_view_name": "StyleView",
      "description_width": ""
     }
    },
    "38c4f2daa97b4ddc9d6c866d045f3b69": {
     "model_module": "@jupyter-widgets/controls",
     "model_module_version": "1.5.0",
     "model_name": "FloatProgressModel",
     "state": {
      "_dom_classes": [],
      "_model_module": "@jupyter-widgets/controls",
      "_model_module_version": "1.5.0",
      "_model_name": "FloatProgressModel",
      "_view_count": null,
      "_view_module": "@jupyter-widgets/controls",
      "_view_module_version": "1.5.0",
      "_view_name": "ProgressView",
      "bar_style": "success",
      "description": "",
      "description_tooltip": null,
      "layout": "IPY_MODEL_80d03a2984064cb6bfa963a0b7a0a776",
      "max": 15000,
      "min": 0,
      "orientation": "horizontal",
      "style": "IPY_MODEL_54df2f8139514ac78ffc43c18bf7581d",
      "value": 15000
     }
    },
    "38db43656a2547c9bef737b30cf3d3f7": {
     "model_module": "@jupyter-widgets/base",
     "model_module_version": "1.2.0",
     "model_name": "LayoutModel",
     "state": {
      "_model_module": "@jupyter-widgets/base",
      "_model_module_version": "1.2.0",
      "_model_name": "LayoutModel",
      "_view_count": null,
      "_view_module": "@jupyter-widgets/base",
      "_view_module_version": "1.2.0",
      "_view_name": "LayoutView",
      "align_content": null,
      "align_items": null,
      "align_self": null,
      "border": null,
      "bottom": null,
      "display": null,
      "flex": null,
      "flex_flow": null,
      "grid_area": null,
      "grid_auto_columns": null,
      "grid_auto_flow": null,
      "grid_auto_rows": null,
      "grid_column": null,
      "grid_gap": null,
      "grid_row": null,
      "grid_template_areas": null,
      "grid_template_columns": null,
      "grid_template_rows": null,
      "height": null,
      "justify_content": null,
      "justify_items": null,
      "left": null,
      "margin": null,
      "max_height": null,
      "max_width": null,
      "min_height": null,
      "min_width": null,
      "object_fit": null,
      "object_position": null,
      "order": null,
      "overflow": null,
      "overflow_x": null,
      "overflow_y": null,
      "padding": null,
      "right": null,
      "top": null,
      "visibility": null,
      "width": null
     }
    },
    "3a0dd9140bff4a0aad45ea444ce2aff2": {
     "model_module": "@jupyter-widgets/controls",
     "model_module_version": "1.5.0",
     "model_name": "ProgressStyleModel",
     "state": {
      "_model_module": "@jupyter-widgets/controls",
      "_model_module_version": "1.5.0",
      "_model_name": "ProgressStyleModel",
      "_view_count": null,
      "_view_module": "@jupyter-widgets/base",
      "_view_module_version": "1.2.0",
      "_view_name": "StyleView",
      "bar_color": null,
      "description_width": ""
     }
    },
    "3a36101c0e1e45c49076c6360470c528": {
     "model_module": "@jupyter-widgets/base",
     "model_module_version": "1.2.0",
     "model_name": "LayoutModel",
     "state": {
      "_model_module": "@jupyter-widgets/base",
      "_model_module_version": "1.2.0",
      "_model_name": "LayoutModel",
      "_view_count": null,
      "_view_module": "@jupyter-widgets/base",
      "_view_module_version": "1.2.0",
      "_view_name": "LayoutView",
      "align_content": null,
      "align_items": null,
      "align_self": null,
      "border": null,
      "bottom": null,
      "display": null,
      "flex": null,
      "flex_flow": null,
      "grid_area": null,
      "grid_auto_columns": null,
      "grid_auto_flow": null,
      "grid_auto_rows": null,
      "grid_column": null,
      "grid_gap": null,
      "grid_row": null,
      "grid_template_areas": null,
      "grid_template_columns": null,
      "grid_template_rows": null,
      "height": null,
      "justify_content": null,
      "justify_items": null,
      "left": null,
      "margin": null,
      "max_height": null,
      "max_width": null,
      "min_height": null,
      "min_width": null,
      "object_fit": null,
      "object_position": null,
      "order": null,
      "overflow": null,
      "overflow_x": null,
      "overflow_y": null,
      "padding": null,
      "right": null,
      "top": null,
      "visibility": null,
      "width": null
     }
    },
    "3b66a8cea2104ca7a256ccfa6fccbd01": {
     "model_module": "@jupyter-widgets/controls",
     "model_module_version": "1.5.0",
     "model_name": "FloatProgressModel",
     "state": {
      "_dom_classes": [],
      "_model_module": "@jupyter-widgets/controls",
      "_model_module_version": "1.5.0",
      "_model_name": "FloatProgressModel",
      "_view_count": null,
      "_view_module": "@jupyter-widgets/controls",
      "_view_module_version": "1.5.0",
      "_view_name": "ProgressView",
      "bar_style": "success",
      "description": "",
      "description_tooltip": null,
      "layout": "IPY_MODEL_06da32e408c24e448b4d61d886b24e0f",
      "max": 231508,
      "min": 0,
      "orientation": "horizontal",
      "style": "IPY_MODEL_1f91f2154a9b474fa399aae8c0ccf766",
      "value": 231508
     }
    },
    "3c251229afca42cca4053df42e1cc941": {
     "model_module": "@jupyter-widgets/controls",
     "model_module_version": "1.5.0",
     "model_name": "DescriptionStyleModel",
     "state": {
      "_model_module": "@jupyter-widgets/controls",
      "_model_module_version": "1.5.0",
      "_model_name": "DescriptionStyleModel",
      "_view_count": null,
      "_view_module": "@jupyter-widgets/base",
      "_view_module_version": "1.2.0",
      "_view_name": "StyleView",
      "description_width": ""
     }
    },
    "3dfc7b7634c749838710f6765e1bb4cc": {
     "model_module": "@jupyter-widgets/base",
     "model_module_version": "1.2.0",
     "model_name": "LayoutModel",
     "state": {
      "_model_module": "@jupyter-widgets/base",
      "_model_module_version": "1.2.0",
      "_model_name": "LayoutModel",
      "_view_count": null,
      "_view_module": "@jupyter-widgets/base",
      "_view_module_version": "1.2.0",
      "_view_name": "LayoutView",
      "align_content": null,
      "align_items": null,
      "align_self": null,
      "border": null,
      "bottom": null,
      "display": null,
      "flex": null,
      "flex_flow": null,
      "grid_area": null,
      "grid_auto_columns": null,
      "grid_auto_flow": null,
      "grid_auto_rows": null,
      "grid_column": null,
      "grid_gap": null,
      "grid_row": null,
      "grid_template_areas": null,
      "grid_template_columns": null,
      "grid_template_rows": null,
      "height": null,
      "justify_content": null,
      "justify_items": null,
      "left": null,
      "margin": null,
      "max_height": null,
      "max_width": null,
      "min_height": null,
      "min_width": null,
      "object_fit": null,
      "object_position": null,
      "order": null,
      "overflow": null,
      "overflow_x": null,
      "overflow_y": null,
      "padding": null,
      "right": null,
      "top": null,
      "visibility": null,
      "width": null
     }
    },
    "3ea6f47c4b8e4509a87579f0fe4f5002": {
     "model_module": "@jupyter-widgets/base",
     "model_module_version": "1.2.0",
     "model_name": "LayoutModel",
     "state": {
      "_model_module": "@jupyter-widgets/base",
      "_model_module_version": "1.2.0",
      "_model_name": "LayoutModel",
      "_view_count": null,
      "_view_module": "@jupyter-widgets/base",
      "_view_module_version": "1.2.0",
      "_view_name": "LayoutView",
      "align_content": null,
      "align_items": null,
      "align_self": null,
      "border": null,
      "bottom": null,
      "display": null,
      "flex": null,
      "flex_flow": null,
      "grid_area": null,
      "grid_auto_columns": null,
      "grid_auto_flow": null,
      "grid_auto_rows": null,
      "grid_column": null,
      "grid_gap": null,
      "grid_row": null,
      "grid_template_areas": null,
      "grid_template_columns": null,
      "grid_template_rows": null,
      "height": null,
      "justify_content": null,
      "justify_items": null,
      "left": null,
      "margin": null,
      "max_height": null,
      "max_width": null,
      "min_height": null,
      "min_width": null,
      "object_fit": null,
      "object_position": null,
      "order": null,
      "overflow": null,
      "overflow_x": null,
      "overflow_y": null,
      "padding": null,
      "right": null,
      "top": null,
      "visibility": null,
      "width": null
     }
    },
    "4137767373674046a30893dc5490b4b9": {
     "model_module": "@jupyter-widgets/base",
     "model_module_version": "1.2.0",
     "model_name": "LayoutModel",
     "state": {
      "_model_module": "@jupyter-widgets/base",
      "_model_module_version": "1.2.0",
      "_model_name": "LayoutModel",
      "_view_count": null,
      "_view_module": "@jupyter-widgets/base",
      "_view_module_version": "1.2.0",
      "_view_name": "LayoutView",
      "align_content": null,
      "align_items": null,
      "align_self": null,
      "border": null,
      "bottom": null,
      "display": null,
      "flex": null,
      "flex_flow": null,
      "grid_area": null,
      "grid_auto_columns": null,
      "grid_auto_flow": null,
      "grid_auto_rows": null,
      "grid_column": null,
      "grid_gap": null,
      "grid_row": null,
      "grid_template_areas": null,
      "grid_template_columns": null,
      "grid_template_rows": null,
      "height": null,
      "justify_content": null,
      "justify_items": null,
      "left": null,
      "margin": null,
      "max_height": null,
      "max_width": null,
      "min_height": null,
      "min_width": null,
      "object_fit": null,
      "object_position": null,
      "order": null,
      "overflow": null,
      "overflow_x": null,
      "overflow_y": null,
      "padding": null,
      "right": null,
      "top": null,
      "visibility": null,
      "width": null
     }
    },
    "46d105c501354fbda3d2bd0468571bae": {
     "model_module": "@jupyter-widgets/base",
     "model_module_version": "1.2.0",
     "model_name": "LayoutModel",
     "state": {
      "_model_module": "@jupyter-widgets/base",
      "_model_module_version": "1.2.0",
      "_model_name": "LayoutModel",
      "_view_count": null,
      "_view_module": "@jupyter-widgets/base",
      "_view_module_version": "1.2.0",
      "_view_name": "LayoutView",
      "align_content": null,
      "align_items": null,
      "align_self": null,
      "border": null,
      "bottom": null,
      "display": null,
      "flex": null,
      "flex_flow": null,
      "grid_area": null,
      "grid_auto_columns": null,
      "grid_auto_flow": null,
      "grid_auto_rows": null,
      "grid_column": null,
      "grid_gap": null,
      "grid_row": null,
      "grid_template_areas": null,
      "grid_template_columns": null,
      "grid_template_rows": null,
      "height": null,
      "justify_content": null,
      "justify_items": null,
      "left": null,
      "margin": null,
      "max_height": null,
      "max_width": null,
      "min_height": null,
      "min_width": null,
      "object_fit": null,
      "object_position": null,
      "order": null,
      "overflow": null,
      "overflow_x": null,
      "overflow_y": null,
      "padding": null,
      "right": null,
      "top": null,
      "visibility": null,
      "width": null
     }
    },
    "48071f3ae53046ee973efb17b9a43906": {
     "model_module": "@jupyter-widgets/controls",
     "model_module_version": "1.5.0",
     "model_name": "FloatProgressModel",
     "state": {
      "_dom_classes": [],
      "_model_module": "@jupyter-widgets/controls",
      "_model_module_version": "1.5.0",
      "_model_name": "FloatProgressModel",
      "_view_count": null,
      "_view_module": "@jupyter-widgets/controls",
      "_view_module_version": "1.5.0",
      "_view_name": "ProgressView",
      "bar_style": "success",
      "description": "",
      "description_tooltip": null,
      "layout": "IPY_MODEL_3ea6f47c4b8e4509a87579f0fe4f5002",
      "max": 15000,
      "min": 0,
      "orientation": "horizontal",
      "style": "IPY_MODEL_3a0dd9140bff4a0aad45ea444ce2aff2",
      "value": 15000
     }
    },
    "490fd0c24ea34876807a9e884af97683": {
     "model_module": "@jupyter-widgets/base",
     "model_module_version": "1.2.0",
     "model_name": "LayoutModel",
     "state": {
      "_model_module": "@jupyter-widgets/base",
      "_model_module_version": "1.2.0",
      "_model_name": "LayoutModel",
      "_view_count": null,
      "_view_module": "@jupyter-widgets/base",
      "_view_module_version": "1.2.0",
      "_view_name": "LayoutView",
      "align_content": null,
      "align_items": null,
      "align_self": null,
      "border": null,
      "bottom": null,
      "display": null,
      "flex": null,
      "flex_flow": null,
      "grid_area": null,
      "grid_auto_columns": null,
      "grid_auto_flow": null,
      "grid_auto_rows": null,
      "grid_column": null,
      "grid_gap": null,
      "grid_row": null,
      "grid_template_areas": null,
      "grid_template_columns": null,
      "grid_template_rows": null,
      "height": null,
      "justify_content": null,
      "justify_items": null,
      "left": null,
      "margin": null,
      "max_height": null,
      "max_width": null,
      "min_height": null,
      "min_width": null,
      "object_fit": null,
      "object_position": null,
      "order": null,
      "overflow": null,
      "overflow_x": null,
      "overflow_y": null,
      "padding": null,
      "right": null,
      "top": null,
      "visibility": null,
      "width": null
     }
    },
    "4b81639db7094084b7f021673a32f13f": {
     "model_module": "@jupyter-widgets/controls",
     "model_module_version": "1.5.0",
     "model_name": "HTMLModel",
     "state": {
      "_dom_classes": [],
      "_model_module": "@jupyter-widgets/controls",
      "_model_module_version": "1.5.0",
      "_model_name": "HTMLModel",
      "_view_count": null,
      "_view_module": "@jupyter-widgets/controls",
      "_view_module_version": "1.5.0",
      "_view_name": "HTMLView",
      "description": "",
      "description_tooltip": null,
      "layout": "IPY_MODEL_d263deb1f1854c6fbf070b335cf92e88",
      "placeholder": "​",
      "style": "IPY_MODEL_a284a990d03b4f79ae85fdd444db4422",
      "value": " 15000/15000 [00:02&lt;00:00, 5746.76 examples/s]"
     }
    },
    "4e0824ac08dd4184ac953bf059eccf6b": {
     "model_module": "@jupyter-widgets/controls",
     "model_module_version": "1.5.0",
     "model_name": "HTMLModel",
     "state": {
      "_dom_classes": [],
      "_model_module": "@jupyter-widgets/controls",
      "_model_module_version": "1.5.0",
      "_model_name": "HTMLModel",
      "_view_count": null,
      "_view_module": "@jupyter-widgets/controls",
      "_view_module_version": "1.5.0",
      "_view_name": "HTMLView",
      "description": "",
      "description_tooltip": null,
      "layout": "IPY_MODEL_490fd0c24ea34876807a9e884af97683",
      "placeholder": "​",
      "style": "IPY_MODEL_7e2c65c969c34cbcb65e4f3c11c5a67b",
      "value": "Map: 100%"
     }
    },
    "4f5207192e1f4205bcc0306525bd1d62": {
     "model_module": "@jupyter-widgets/controls",
     "model_module_version": "1.5.0",
     "model_name": "FloatProgressModel",
     "state": {
      "_dom_classes": [],
      "_model_module": "@jupyter-widgets/controls",
      "_model_module_version": "1.5.0",
      "_model_name": "FloatProgressModel",
      "_view_count": null,
      "_view_module": "@jupyter-widgets/controls",
      "_view_module_version": "1.5.0",
      "_view_name": "ProgressView",
      "bar_style": "success",
      "description": "",
      "description_tooltip": null,
      "layout": "IPY_MODEL_38db43656a2547c9bef737b30cf3d3f7",
      "max": 35000,
      "min": 0,
      "orientation": "horizontal",
      "style": "IPY_MODEL_0cd9b52dfbfd4ddf8e4fdfb77e3a07c3",
      "value": 35000
     }
    },
    "5120d008d2664b3aac961897099065a7": {
     "model_module": "@jupyter-widgets/base",
     "model_module_version": "1.2.0",
     "model_name": "LayoutModel",
     "state": {
      "_model_module": "@jupyter-widgets/base",
      "_model_module_version": "1.2.0",
      "_model_name": "LayoutModel",
      "_view_count": null,
      "_view_module": "@jupyter-widgets/base",
      "_view_module_version": "1.2.0",
      "_view_name": "LayoutView",
      "align_content": null,
      "align_items": null,
      "align_self": null,
      "border": null,
      "bottom": null,
      "display": null,
      "flex": null,
      "flex_flow": null,
      "grid_area": null,
      "grid_auto_columns": null,
      "grid_auto_flow": null,
      "grid_auto_rows": null,
      "grid_column": null,
      "grid_gap": null,
      "grid_row": null,
      "grid_template_areas": null,
      "grid_template_columns": null,
      "grid_template_rows": null,
      "height": null,
      "justify_content": null,
      "justify_items": null,
      "left": null,
      "margin": null,
      "max_height": null,
      "max_width": null,
      "min_height": null,
      "min_width": null,
      "object_fit": null,
      "object_position": null,
      "order": null,
      "overflow": null,
      "overflow_x": null,
      "overflow_y": null,
      "padding": null,
      "right": null,
      "top": null,
      "visibility": null,
      "width": null
     }
    },
    "5145b53136c54961902805a0e8608f7f": {
     "model_module": "@jupyter-widgets/controls",
     "model_module_version": "1.5.0",
     "model_name": "HTMLModel",
     "state": {
      "_dom_classes": [],
      "_model_module": "@jupyter-widgets/controls",
      "_model_module_version": "1.5.0",
      "_model_name": "HTMLModel",
      "_view_count": null,
      "_view_module": "@jupyter-widgets/controls",
      "_view_module_version": "1.5.0",
      "_view_name": "HTMLView",
      "description": "",
      "description_tooltip": null,
      "layout": "IPY_MODEL_9dcc46696ef84fa7b10c25af99fd333a",
      "placeholder": "​",
      "style": "IPY_MODEL_7a74f29b4d934ed28a5b33fd9a693b74",
      "value": "Map: 100%"
     }
    },
    "54df2f8139514ac78ffc43c18bf7581d": {
     "model_module": "@jupyter-widgets/controls",
     "model_module_version": "1.5.0",
     "model_name": "ProgressStyleModel",
     "state": {
      "_model_module": "@jupyter-widgets/controls",
      "_model_module_version": "1.5.0",
      "_model_name": "ProgressStyleModel",
      "_view_count": null,
      "_view_module": "@jupyter-widgets/base",
      "_view_module_version": "1.2.0",
      "_view_name": "StyleView",
      "bar_color": null,
      "description_width": ""
     }
    },
    "55dbe078013e429f84f72a481ee2d08b": {
     "model_module": "@jupyter-widgets/controls",
     "model_module_version": "1.5.0",
     "model_name": "FloatProgressModel",
     "state": {
      "_dom_classes": [],
      "_model_module": "@jupyter-widgets/controls",
      "_model_module_version": "1.5.0",
      "_model_name": "FloatProgressModel",
      "_view_count": null,
      "_view_module": "@jupyter-widgets/controls",
      "_view_module_version": "1.5.0",
      "_view_name": "ProgressView",
      "bar_style": "success",
      "description": "",
      "description_tooltip": null,
      "layout": "IPY_MODEL_bcb4b812cc884b19a58dd19c81025a99",
      "max": 62747391,
      "min": 0,
      "orientation": "horizontal",
      "style": "IPY_MODEL_74e0cb38c1b44fbead5140ffd229677f",
      "value": 62747391
     }
    },
    "57236ff7b075498ba5e298a5ccae7460": {
     "model_module": "@jupyter-widgets/base",
     "model_module_version": "1.2.0",
     "model_name": "LayoutModel",
     "state": {
      "_model_module": "@jupyter-widgets/base",
      "_model_module_version": "1.2.0",
      "_model_name": "LayoutModel",
      "_view_count": null,
      "_view_module": "@jupyter-widgets/base",
      "_view_module_version": "1.2.0",
      "_view_name": "LayoutView",
      "align_content": null,
      "align_items": null,
      "align_self": null,
      "border": null,
      "bottom": null,
      "display": null,
      "flex": null,
      "flex_flow": null,
      "grid_area": null,
      "grid_auto_columns": null,
      "grid_auto_flow": null,
      "grid_auto_rows": null,
      "grid_column": null,
      "grid_gap": null,
      "grid_row": null,
      "grid_template_areas": null,
      "grid_template_columns": null,
      "grid_template_rows": null,
      "height": null,
      "justify_content": null,
      "justify_items": null,
      "left": null,
      "margin": null,
      "max_height": null,
      "max_width": null,
      "min_height": null,
      "min_width": null,
      "object_fit": null,
      "object_position": null,
      "order": null,
      "overflow": null,
      "overflow_x": null,
      "overflow_y": null,
      "padding": null,
      "right": null,
      "top": null,
      "visibility": null,
      "width": null
     }
    },
    "59071db2c7a945fb9b51bb6e29317873": {
     "model_module": "@jupyter-widgets/controls",
     "model_module_version": "1.5.0",
     "model_name": "HTMLModel",
     "state": {
      "_dom_classes": [],
      "_model_module": "@jupyter-widgets/controls",
      "_model_module_version": "1.5.0",
      "_model_name": "HTMLModel",
      "_view_count": null,
      "_view_module": "@jupyter-widgets/controls",
      "_view_module_version": "1.5.0",
      "_view_name": "HTMLView",
      "description": "",
      "description_tooltip": null,
      "layout": "IPY_MODEL_999cc702e0584deab1e7f47b2a9d2fe2",
      "placeholder": "​",
      "style": "IPY_MODEL_ea283883dc6f459eac5fdcbe144cdf86",
      "value": " 35000/35000 [00:05&lt;00:00, 4234.25 examples/s]"
     }
    },
    "5d82d1e619f548cc8702b88838ae73d9": {
     "model_module": "@jupyter-widgets/controls",
     "model_module_version": "1.5.0",
     "model_name": "HTMLModel",
     "state": {
      "_dom_classes": [],
      "_model_module": "@jupyter-widgets/controls",
      "_model_module_version": "1.5.0",
      "_model_name": "HTMLModel",
      "_view_count": null,
      "_view_module": "@jupyter-widgets/controls",
      "_view_module_version": "1.5.0",
      "_view_name": "HTMLView",
      "description": "",
      "description_tooltip": null,
      "layout": "IPY_MODEL_2345d968d2254e429f313e4af3e472f1",
      "placeholder": "​",
      "style": "IPY_MODEL_377d96e3517c48c19a83c81e5160f935",
      "value": " 232k/232k [00:00&lt;00:00, 3.09MB/s]"
     }
    },
    "5d8780c1a5f64fad98af30fef30f9597": {
     "model_module": "@jupyter-widgets/base",
     "model_module_version": "1.2.0",
     "model_name": "LayoutModel",
     "state": {
      "_model_module": "@jupyter-widgets/base",
      "_model_module_version": "1.2.0",
      "_model_name": "LayoutModel",
      "_view_count": null,
      "_view_module": "@jupyter-widgets/base",
      "_view_module_version": "1.2.0",
      "_view_name": "LayoutView",
      "align_content": null,
      "align_items": null,
      "align_self": null,
      "border": null,
      "bottom": null,
      "display": null,
      "flex": null,
      "flex_flow": null,
      "grid_area": null,
      "grid_auto_columns": null,
      "grid_auto_flow": null,
      "grid_auto_rows": null,
      "grid_column": null,
      "grid_gap": null,
      "grid_row": null,
      "grid_template_areas": null,
      "grid_template_columns": null,
      "grid_template_rows": null,
      "height": null,
      "justify_content": null,
      "justify_items": null,
      "left": null,
      "margin": null,
      "max_height": null,
      "max_width": null,
      "min_height": null,
      "min_width": null,
      "object_fit": null,
      "object_position": null,
      "order": null,
      "overflow": null,
      "overflow_x": null,
      "overflow_y": null,
      "padding": null,
      "right": null,
      "top": null,
      "visibility": null,
      "width": null
     }
    },
    "5f8ad29626764e8790d1b8a5bcfd0ea5": {
     "model_module": "@jupyter-widgets/controls",
     "model_module_version": "1.5.0",
     "model_name": "HTMLModel",
     "state": {
      "_dom_classes": [],
      "_model_module": "@jupyter-widgets/controls",
      "_model_module_version": "1.5.0",
      "_model_name": "HTMLModel",
      "_view_count": null,
      "_view_module": "@jupyter-widgets/controls",
      "_view_module_version": "1.5.0",
      "_view_name": "HTMLView",
      "description": "",
      "description_tooltip": null,
      "layout": "IPY_MODEL_46d105c501354fbda3d2bd0468571bae",
      "placeholder": "​",
      "style": "IPY_MODEL_7ebfd276c97d4a19abefe05209bfd27b",
      "value": "vocab.txt: 100%"
     }
    },
    "63ef6c434a6f4c2cb4abf3a74c76f8b6": {
     "model_module": "@jupyter-widgets/base",
     "model_module_version": "1.2.0",
     "model_name": "LayoutModel",
     "state": {
      "_model_module": "@jupyter-widgets/base",
      "_model_module_version": "1.2.0",
      "_model_name": "LayoutModel",
      "_view_count": null,
      "_view_module": "@jupyter-widgets/base",
      "_view_module_version": "1.2.0",
      "_view_name": "LayoutView",
      "align_content": null,
      "align_items": null,
      "align_self": null,
      "border": null,
      "bottom": null,
      "display": null,
      "flex": null,
      "flex_flow": null,
      "grid_area": null,
      "grid_auto_columns": null,
      "grid_auto_flow": null,
      "grid_auto_rows": null,
      "grid_column": null,
      "grid_gap": null,
      "grid_row": null,
      "grid_template_areas": null,
      "grid_template_columns": null,
      "grid_template_rows": null,
      "height": null,
      "justify_content": null,
      "justify_items": null,
      "left": null,
      "margin": null,
      "max_height": null,
      "max_width": null,
      "min_height": null,
      "min_width": null,
      "object_fit": null,
      "object_position": null,
      "order": null,
      "overflow": null,
      "overflow_x": null,
      "overflow_y": null,
      "padding": null,
      "right": null,
      "top": null,
      "visibility": null,
      "width": null
     }
    },
    "64960bfe0c984ca6a6a4ea81ad84d610": {
     "model_module": "@jupyter-widgets/controls",
     "model_module_version": "1.5.0",
     "model_name": "HTMLModel",
     "state": {
      "_dom_classes": [],
      "_model_module": "@jupyter-widgets/controls",
      "_model_module_version": "1.5.0",
      "_model_name": "HTMLModel",
      "_view_count": null,
      "_view_module": "@jupyter-widgets/controls",
      "_view_module_version": "1.5.0",
      "_view_name": "HTMLView",
      "description": "",
      "description_tooltip": null,
      "layout": "IPY_MODEL_3dfc7b7634c749838710f6765e1bb4cc",
      "placeholder": "​",
      "style": "IPY_MODEL_6ba8458f04db4f20b27cd0ae8e258bc0",
      "value": "config.json: 100%"
     }
    },
    "65a1a0c89c9b48b1b399cf68496603cf": {
     "model_module": "@jupyter-widgets/base",
     "model_module_version": "1.2.0",
     "model_name": "LayoutModel",
     "state": {
      "_model_module": "@jupyter-widgets/base",
      "_model_module_version": "1.2.0",
      "_model_name": "LayoutModel",
      "_view_count": null,
      "_view_module": "@jupyter-widgets/base",
      "_view_module_version": "1.2.0",
      "_view_name": "LayoutView",
      "align_content": null,
      "align_items": null,
      "align_self": null,
      "border": null,
      "bottom": null,
      "display": null,
      "flex": null,
      "flex_flow": null,
      "grid_area": null,
      "grid_auto_columns": null,
      "grid_auto_flow": null,
      "grid_auto_rows": null,
      "grid_column": null,
      "grid_gap": null,
      "grid_row": null,
      "grid_template_areas": null,
      "grid_template_columns": null,
      "grid_template_rows": null,
      "height": null,
      "justify_content": null,
      "justify_items": null,
      "left": null,
      "margin": null,
      "max_height": null,
      "max_width": null,
      "min_height": null,
      "min_width": null,
      "object_fit": null,
      "object_position": null,
      "order": null,
      "overflow": null,
      "overflow_x": null,
      "overflow_y": null,
      "padding": null,
      "right": null,
      "top": null,
      "visibility": null,
      "width": null
     }
    },
    "6732e0271cc54179bed14f147a9cb74d": {
     "model_module": "@jupyter-widgets/controls",
     "model_module_version": "1.5.0",
     "model_name": "DescriptionStyleModel",
     "state": {
      "_model_module": "@jupyter-widgets/controls",
      "_model_module_version": "1.5.0",
      "_model_name": "DescriptionStyleModel",
      "_view_count": null,
      "_view_module": "@jupyter-widgets/base",
      "_view_module_version": "1.2.0",
      "_view_name": "StyleView",
      "description_width": ""
     }
    },
    "6936b728fe1c4660b7fbecba98ddcda9": {
     "model_module": "@jupyter-widgets/controls",
     "model_module_version": "1.5.0",
     "model_name": "HTMLModel",
     "state": {
      "_dom_classes": [],
      "_model_module": "@jupyter-widgets/controls",
      "_model_module_version": "1.5.0",
      "_model_name": "HTMLModel",
      "_view_count": null,
      "_view_module": "@jupyter-widgets/controls",
      "_view_module_version": "1.5.0",
      "_view_name": "HTMLView",
      "description": "",
      "description_tooltip": null,
      "layout": "IPY_MODEL_797deb2ce0c346cb8b8d1bb96032a8da",
      "placeholder": "​",
      "style": "IPY_MODEL_3c251229afca42cca4053df42e1cc941",
      "value": "Downloading builder script: 100%"
     }
    },
    "6b2fec28c44b4cdd98a2203edcb0a9a2": {
     "model_module": "@jupyter-widgets/controls",
     "model_module_version": "1.5.0",
     "model_name": "HBoxModel",
     "state": {
      "_dom_classes": [],
      "_model_module": "@jupyter-widgets/controls",
      "_model_module_version": "1.5.0",
      "_model_name": "HBoxModel",
      "_view_count": null,
      "_view_module": "@jupyter-widgets/controls",
      "_view_module_version": "1.5.0",
      "_view_name": "HBoxView",
      "box_style": "",
      "children": [
       "IPY_MODEL_5f8ad29626764e8790d1b8a5bcfd0ea5",
       "IPY_MODEL_3b66a8cea2104ca7a256ccfa6fccbd01",
       "IPY_MODEL_5d82d1e619f548cc8702b88838ae73d9"
      ],
      "layout": "IPY_MODEL_cdd4a28139e04ee0bfe5d64a3575a0d2"
     }
    },
    "6ba8458f04db4f20b27cd0ae8e258bc0": {
     "model_module": "@jupyter-widgets/controls",
     "model_module_version": "1.5.0",
     "model_name": "DescriptionStyleModel",
     "state": {
      "_model_module": "@jupyter-widgets/controls",
      "_model_module_version": "1.5.0",
      "_model_name": "DescriptionStyleModel",
      "_view_count": null,
      "_view_module": "@jupyter-widgets/base",
      "_view_module_version": "1.2.0",
      "_view_name": "StyleView",
      "description_width": ""
     }
    },
    "6c0b60cf7fa9467c8269f76c6d0b2f39": {
     "model_module": "@jupyter-widgets/controls",
     "model_module_version": "1.5.0",
     "model_name": "FloatProgressModel",
     "state": {
      "_dom_classes": [],
      "_model_module": "@jupyter-widgets/controls",
      "_model_module_version": "1.5.0",
      "_model_name": "FloatProgressModel",
      "_view_count": null,
      "_view_module": "@jupyter-widgets/controls",
      "_view_module_version": "1.5.0",
      "_view_name": "ProgressView",
      "bar_style": "success",
      "description": "",
      "description_tooltip": null,
      "layout": "IPY_MODEL_dcb123d565894afb8e19d3173d0cb708",
      "max": 409,
      "min": 0,
      "orientation": "horizontal",
      "style": "IPY_MODEL_71fbfc8db5ca4d479a98d7e3c9adb3ca",
      "value": 409
     }
    },
    "6d4d946bde8244b98b780bafb894d6ab": {
     "model_module": "@jupyter-widgets/controls",
     "model_module_version": "1.5.0",
     "model_name": "HTMLModel",
     "state": {
      "_dom_classes": [],
      "_model_module": "@jupyter-widgets/controls",
      "_model_module_version": "1.5.0",
      "_model_name": "HTMLModel",
      "_view_count": null,
      "_view_module": "@jupyter-widgets/controls",
      "_view_module_version": "1.5.0",
      "_view_name": "HTMLView",
      "description": "",
      "description_tooltip": null,
      "layout": "IPY_MODEL_57236ff7b075498ba5e298a5ccae7460",
      "placeholder": "​",
      "style": "IPY_MODEL_6732e0271cc54179bed14f147a9cb74d",
      "value": " 62.7M/62.7M [00:00&lt;00:00, 79.7MB/s]"
     }
    },
    "71fbfc8db5ca4d479a98d7e3c9adb3ca": {
     "model_module": "@jupyter-widgets/controls",
     "model_module_version": "1.5.0",
     "model_name": "ProgressStyleModel",
     "state": {
      "_model_module": "@jupyter-widgets/controls",
      "_model_module_version": "1.5.0",
      "_model_name": "ProgressStyleModel",
      "_view_count": null,
      "_view_module": "@jupyter-widgets/base",
      "_view_module_version": "1.2.0",
      "_view_name": "StyleView",
      "bar_color": null,
      "description_width": ""
     }
    },
    "7250397a01d54e699ac4e63d38aeca57": {
     "model_module": "@jupyter-widgets/base",
     "model_module_version": "1.2.0",
     "model_name": "LayoutModel",
     "state": {
      "_model_module": "@jupyter-widgets/base",
      "_model_module_version": "1.2.0",
      "_model_name": "LayoutModel",
      "_view_count": null,
      "_view_module": "@jupyter-widgets/base",
      "_view_module_version": "1.2.0",
      "_view_name": "LayoutView",
      "align_content": null,
      "align_items": null,
      "align_self": null,
      "border": null,
      "bottom": null,
      "display": null,
      "flex": null,
      "flex_flow": null,
      "grid_area": null,
      "grid_auto_columns": null,
      "grid_auto_flow": null,
      "grid_auto_rows": null,
      "grid_column": null,
      "grid_gap": null,
      "grid_row": null,
      "grid_template_areas": null,
      "grid_template_columns": null,
      "grid_template_rows": null,
      "height": null,
      "justify_content": null,
      "justify_items": null,
      "left": null,
      "margin": null,
      "max_height": null,
      "max_width": null,
      "min_height": null,
      "min_width": null,
      "object_fit": null,
      "object_position": null,
      "order": null,
      "overflow": null,
      "overflow_x": null,
      "overflow_y": null,
      "padding": null,
      "right": null,
      "top": null,
      "visibility": null,
      "width": null
     }
    },
    "73b05ade02064dccb3e05ebe67958a2f": {
     "model_module": "@jupyter-widgets/controls",
     "model_module_version": "1.5.0",
     "model_name": "DescriptionStyleModel",
     "state": {
      "_model_module": "@jupyter-widgets/controls",
      "_model_module_version": "1.5.0",
      "_model_name": "DescriptionStyleModel",
      "_view_count": null,
      "_view_module": "@jupyter-widgets/base",
      "_view_module_version": "1.2.0",
      "_view_name": "StyleView",
      "description_width": ""
     }
    },
    "74e0cb38c1b44fbead5140ffd229677f": {
     "model_module": "@jupyter-widgets/controls",
     "model_module_version": "1.5.0",
     "model_name": "ProgressStyleModel",
     "state": {
      "_model_module": "@jupyter-widgets/controls",
      "_model_module_version": "1.5.0",
      "_model_name": "ProgressStyleModel",
      "_view_count": null,
      "_view_module": "@jupyter-widgets/base",
      "_view_module_version": "1.2.0",
      "_view_name": "StyleView",
      "bar_color": null,
      "description_width": ""
     }
    },
    "797deb2ce0c346cb8b8d1bb96032a8da": {
     "model_module": "@jupyter-widgets/base",
     "model_module_version": "1.2.0",
     "model_name": "LayoutModel",
     "state": {
      "_model_module": "@jupyter-widgets/base",
      "_model_module_version": "1.2.0",
      "_model_name": "LayoutModel",
      "_view_count": null,
      "_view_module": "@jupyter-widgets/base",
      "_view_module_version": "1.2.0",
      "_view_name": "LayoutView",
      "align_content": null,
      "align_items": null,
      "align_self": null,
      "border": null,
      "bottom": null,
      "display": null,
      "flex": null,
      "flex_flow": null,
      "grid_area": null,
      "grid_auto_columns": null,
      "grid_auto_flow": null,
      "grid_auto_rows": null,
      "grid_column": null,
      "grid_gap": null,
      "grid_row": null,
      "grid_template_areas": null,
      "grid_template_columns": null,
      "grid_template_rows": null,
      "height": null,
      "justify_content": null,
      "justify_items": null,
      "left": null,
      "margin": null,
      "max_height": null,
      "max_width": null,
      "min_height": null,
      "min_width": null,
      "object_fit": null,
      "object_position": null,
      "order": null,
      "overflow": null,
      "overflow_x": null,
      "overflow_y": null,
      "padding": null,
      "right": null,
      "top": null,
      "visibility": null,
      "width": null
     }
    },
    "7a74f29b4d934ed28a5b33fd9a693b74": {
     "model_module": "@jupyter-widgets/controls",
     "model_module_version": "1.5.0",
     "model_name": "DescriptionStyleModel",
     "state": {
      "_model_module": "@jupyter-widgets/controls",
      "_model_module_version": "1.5.0",
      "_model_name": "DescriptionStyleModel",
      "_view_count": null,
      "_view_module": "@jupyter-widgets/base",
      "_view_module_version": "1.2.0",
      "_view_name": "StyleView",
      "description_width": ""
     }
    },
    "7e2c65c969c34cbcb65e4f3c11c5a67b": {
     "model_module": "@jupyter-widgets/controls",
     "model_module_version": "1.5.0",
     "model_name": "DescriptionStyleModel",
     "state": {
      "_model_module": "@jupyter-widgets/controls",
      "_model_module_version": "1.5.0",
      "_model_name": "DescriptionStyleModel",
      "_view_count": null,
      "_view_module": "@jupyter-widgets/base",
      "_view_module_version": "1.2.0",
      "_view_name": "StyleView",
      "description_width": ""
     }
    },
    "7ebfd276c97d4a19abefe05209bfd27b": {
     "model_module": "@jupyter-widgets/controls",
     "model_module_version": "1.5.0",
     "model_name": "DescriptionStyleModel",
     "state": {
      "_model_module": "@jupyter-widgets/controls",
      "_model_module_version": "1.5.0",
      "_model_name": "DescriptionStyleModel",
      "_view_count": null,
      "_view_module": "@jupyter-widgets/base",
      "_view_module_version": "1.2.0",
      "_view_name": "StyleView",
      "description_width": ""
     }
    },
    "7ff7ac53267640d590817074538d134b": {
     "model_module": "@jupyter-widgets/controls",
     "model_module_version": "1.5.0",
     "model_name": "HBoxModel",
     "state": {
      "_dom_classes": [],
      "_model_module": "@jupyter-widgets/controls",
      "_model_module_version": "1.5.0",
      "_model_name": "HBoxModel",
      "_view_count": null,
      "_view_module": "@jupyter-widgets/controls",
      "_view_module_version": "1.5.0",
      "_view_name": "HBoxView",
      "box_style": "",
      "children": [
       "IPY_MODEL_347c79d11a474281950033f3c5c94526",
       "IPY_MODEL_55dbe078013e429f84f72a481ee2d08b",
       "IPY_MODEL_6d4d946bde8244b98b780bafb894d6ab"
      ],
      "layout": "IPY_MODEL_dc9f7053277a4c25b73ce598342eb976"
     }
    },
    "80d03a2984064cb6bfa963a0b7a0a776": {
     "model_module": "@jupyter-widgets/base",
     "model_module_version": "1.2.0",
     "model_name": "LayoutModel",
     "state": {
      "_model_module": "@jupyter-widgets/base",
      "_model_module_version": "1.2.0",
      "_model_name": "LayoutModel",
      "_view_count": null,
      "_view_module": "@jupyter-widgets/base",
      "_view_module_version": "1.2.0",
      "_view_name": "LayoutView",
      "align_content": null,
      "align_items": null,
      "align_self": null,
      "border": null,
      "bottom": null,
      "display": null,
      "flex": null,
      "flex_flow": null,
      "grid_area": null,
      "grid_auto_columns": null,
      "grid_auto_flow": null,
      "grid_auto_rows": null,
      "grid_column": null,
      "grid_gap": null,
      "grid_row": null,
      "grid_template_areas": null,
      "grid_template_columns": null,
      "grid_template_rows": null,
      "height": null,
      "justify_content": null,
      "justify_items": null,
      "left": null,
      "margin": null,
      "max_height": null,
      "max_width": null,
      "min_height": null,
      "min_width": null,
      "object_fit": null,
      "object_position": null,
      "order": null,
      "overflow": null,
      "overflow_x": null,
      "overflow_y": null,
      "padding": null,
      "right": null,
      "top": null,
      "visibility": null,
      "width": null
     }
    },
    "83c4e4c7349e4807be9553541fdc9fd9": {
     "model_module": "@jupyter-widgets/controls",
     "model_module_version": "1.5.0",
     "model_name": "DescriptionStyleModel",
     "state": {
      "_model_module": "@jupyter-widgets/controls",
      "_model_module_version": "1.5.0",
      "_model_name": "DescriptionStyleModel",
      "_view_count": null,
      "_view_module": "@jupyter-widgets/base",
      "_view_module_version": "1.2.0",
      "_view_name": "StyleView",
      "description_width": ""
     }
    },
    "84f0301488a5433abcc59c41d0bc5b61": {
     "model_module": "@jupyter-widgets/controls",
     "model_module_version": "1.5.0",
     "model_name": "DescriptionStyleModel",
     "state": {
      "_model_module": "@jupyter-widgets/controls",
      "_model_module_version": "1.5.0",
      "_model_name": "DescriptionStyleModel",
      "_view_count": null,
      "_view_module": "@jupyter-widgets/base",
      "_view_module_version": "1.2.0",
      "_view_name": "StyleView",
      "description_width": ""
     }
    },
    "8b58d46b6ef84ba4b9e66917e1cfaec0": {
     "model_module": "@jupyter-widgets/controls",
     "model_module_version": "1.5.0",
     "model_name": "HBoxModel",
     "state": {
      "_dom_classes": [],
      "_model_module": "@jupyter-widgets/controls",
      "_model_module_version": "1.5.0",
      "_model_name": "HBoxModel",
      "_view_count": null,
      "_view_module": "@jupyter-widgets/controls",
      "_view_module_version": "1.5.0",
      "_view_name": "HBoxView",
      "box_style": "",
      "children": [
       "IPY_MODEL_64960bfe0c984ca6a6a4ea81ad84d610",
       "IPY_MODEL_6c0b60cf7fa9467c8269f76c6d0b2f39",
       "IPY_MODEL_bd05cea1966f439e8261ae7966b78a46"
      ],
      "layout": "IPY_MODEL_65a1a0c89c9b48b1b399cf68496603cf"
     }
    },
    "8b9211d12a8e4fe897081d4554a81b0f": {
     "model_module": "@jupyter-widgets/base",
     "model_module_version": "1.2.0",
     "model_name": "LayoutModel",
     "state": {
      "_model_module": "@jupyter-widgets/base",
      "_model_module_version": "1.2.0",
      "_model_name": "LayoutModel",
      "_view_count": null,
      "_view_module": "@jupyter-widgets/base",
      "_view_module_version": "1.2.0",
      "_view_name": "LayoutView",
      "align_content": null,
      "align_items": null,
      "align_self": null,
      "border": null,
      "bottom": null,
      "display": null,
      "flex": null,
      "flex_flow": null,
      "grid_area": null,
      "grid_auto_columns": null,
      "grid_auto_flow": null,
      "grid_auto_rows": null,
      "grid_column": null,
      "grid_gap": null,
      "grid_row": null,
      "grid_template_areas": null,
      "grid_template_columns": null,
      "grid_template_rows": null,
      "height": null,
      "justify_content": null,
      "justify_items": null,
      "left": null,
      "margin": null,
      "max_height": null,
      "max_width": null,
      "min_height": null,
      "min_width": null,
      "object_fit": null,
      "object_position": null,
      "order": null,
      "overflow": null,
      "overflow_x": null,
      "overflow_y": null,
      "padding": null,
      "right": null,
      "top": null,
      "visibility": null,
      "width": null
     }
    },
    "8e99fa9deb1d4e179fce36056a18f2d1": {
     "model_module": "@jupyter-widgets/controls",
     "model_module_version": "1.5.0",
     "model_name": "HBoxModel",
     "state": {
      "_dom_classes": [],
      "_model_module": "@jupyter-widgets/controls",
      "_model_module_version": "1.5.0",
      "_model_name": "HBoxModel",
      "_view_count": null,
      "_view_module": "@jupyter-widgets/controls",
      "_view_module_version": "1.5.0",
      "_view_name": "HBoxView",
      "box_style": "",
      "children": [
       "IPY_MODEL_03cfc22f7c4845bb974c4858e4c908de",
       "IPY_MODEL_b0edf27bce71492b9c38e77d1b035d02",
       "IPY_MODEL_b4535a10666e49099d39e0159b6b34d2"
      ],
      "layout": "IPY_MODEL_3a36101c0e1e45c49076c6360470c528"
     }
    },
    "91f2419dc06e4dc9b51fee560141fb56": {
     "model_module": "@jupyter-widgets/controls",
     "model_module_version": "1.5.0",
     "model_name": "DescriptionStyleModel",
     "state": {
      "_model_module": "@jupyter-widgets/controls",
      "_model_module_version": "1.5.0",
      "_model_name": "DescriptionStyleModel",
      "_view_count": null,
      "_view_module": "@jupyter-widgets/base",
      "_view_module_version": "1.2.0",
      "_view_name": "StyleView",
      "description_width": ""
     }
    },
    "999cc702e0584deab1e7f47b2a9d2fe2": {
     "model_module": "@jupyter-widgets/base",
     "model_module_version": "1.2.0",
     "model_name": "LayoutModel",
     "state": {
      "_model_module": "@jupyter-widgets/base",
      "_model_module_version": "1.2.0",
      "_model_name": "LayoutModel",
      "_view_count": null,
      "_view_module": "@jupyter-widgets/base",
      "_view_module_version": "1.2.0",
      "_view_name": "LayoutView",
      "align_content": null,
      "align_items": null,
      "align_self": null,
      "border": null,
      "bottom": null,
      "display": null,
      "flex": null,
      "flex_flow": null,
      "grid_area": null,
      "grid_auto_columns": null,
      "grid_auto_flow": null,
      "grid_auto_rows": null,
      "grid_column": null,
      "grid_gap": null,
      "grid_row": null,
      "grid_template_areas": null,
      "grid_template_columns": null,
      "grid_template_rows": null,
      "height": null,
      "justify_content": null,
      "justify_items": null,
      "left": null,
      "margin": null,
      "max_height": null,
      "max_width": null,
      "min_height": null,
      "min_width": null,
      "object_fit": null,
      "object_position": null,
      "order": null,
      "overflow": null,
      "overflow_x": null,
      "overflow_y": null,
      "padding": null,
      "right": null,
      "top": null,
      "visibility": null,
      "width": null
     }
    },
    "9dcc46696ef84fa7b10c25af99fd333a": {
     "model_module": "@jupyter-widgets/base",
     "model_module_version": "1.2.0",
     "model_name": "LayoutModel",
     "state": {
      "_model_module": "@jupyter-widgets/base",
      "_model_module_version": "1.2.0",
      "_model_name": "LayoutModel",
      "_view_count": null,
      "_view_module": "@jupyter-widgets/base",
      "_view_module_version": "1.2.0",
      "_view_name": "LayoutView",
      "align_content": null,
      "align_items": null,
      "align_self": null,
      "border": null,
      "bottom": null,
      "display": null,
      "flex": null,
      "flex_flow": null,
      "grid_area": null,
      "grid_auto_columns": null,
      "grid_auto_flow": null,
      "grid_auto_rows": null,
      "grid_column": null,
      "grid_gap": null,
      "grid_row": null,
      "grid_template_areas": null,
      "grid_template_columns": null,
      "grid_template_rows": null,
      "height": null,
      "justify_content": null,
      "justify_items": null,
      "left": null,
      "margin": null,
      "max_height": null,
      "max_width": null,
      "min_height": null,
      "min_width": null,
      "object_fit": null,
      "object_position": null,
      "order": null,
      "overflow": null,
      "overflow_x": null,
      "overflow_y": null,
      "padding": null,
      "right": null,
      "top": null,
      "visibility": null,
      "width": null
     }
    },
    "a284a990d03b4f79ae85fdd444db4422": {
     "model_module": "@jupyter-widgets/controls",
     "model_module_version": "1.5.0",
     "model_name": "DescriptionStyleModel",
     "state": {
      "_model_module": "@jupyter-widgets/controls",
      "_model_module_version": "1.5.0",
      "_model_name": "DescriptionStyleModel",
      "_view_count": null,
      "_view_module": "@jupyter-widgets/base",
      "_view_module_version": "1.2.0",
      "_view_name": "StyleView",
      "description_width": ""
     }
    },
    "a84af2c11c9d44f2bdbe2a6c7915091c": {
     "model_module": "@jupyter-widgets/controls",
     "model_module_version": "1.5.0",
     "model_name": "HBoxModel",
     "state": {
      "_dom_classes": [],
      "_model_module": "@jupyter-widgets/controls",
      "_model_module_version": "1.5.0",
      "_model_name": "HBoxModel",
      "_view_count": null,
      "_view_module": "@jupyter-widgets/controls",
      "_view_module_version": "1.5.0",
      "_view_name": "HBoxView",
      "box_style": "",
      "children": [
       "IPY_MODEL_ae2d3c0134994a21a2ed7dffe2dcb69e",
       "IPY_MODEL_38c4f2daa97b4ddc9d6c866d045f3b69",
       "IPY_MODEL_e618f4e584de46208fcf5daefc9b14c5"
      ],
      "layout": "IPY_MODEL_5d8780c1a5f64fad98af30fef30f9597"
     }
    },
    "a9a434f64273439499d8fa5ec57479e2": {
     "model_module": "@jupyter-widgets/controls",
     "model_module_version": "1.5.0",
     "model_name": "HBoxModel",
     "state": {
      "_dom_classes": [],
      "_model_module": "@jupyter-widgets/controls",
      "_model_module_version": "1.5.0",
      "_model_name": "HBoxModel",
      "_view_count": null,
      "_view_module": "@jupyter-widgets/controls",
      "_view_module_version": "1.5.0",
      "_view_name": "HBoxView",
      "box_style": "",
      "children": [
       "IPY_MODEL_2a8cf7a5ec534aab879ad84102e733d9",
       "IPY_MODEL_c409c78d2e0e43fea899c1a39cf4b36b",
       "IPY_MODEL_ae4a016d27094afea1b17943caabe57a"
      ],
      "layout": "IPY_MODEL_06708aacac974b2a8bff7f65848822a0"
     }
    },
    "abd281bb4e074390b713595f369f6886": {
     "model_module": "@jupyter-widgets/base",
     "model_module_version": "1.2.0",
     "model_name": "LayoutModel",
     "state": {
      "_model_module": "@jupyter-widgets/base",
      "_model_module_version": "1.2.0",
      "_model_name": "LayoutModel",
      "_view_count": null,
      "_view_module": "@jupyter-widgets/base",
      "_view_module_version": "1.2.0",
      "_view_name": "LayoutView",
      "align_content": null,
      "align_items": null,
      "align_self": null,
      "border": null,
      "bottom": null,
      "display": null,
      "flex": null,
      "flex_flow": null,
      "grid_area": null,
      "grid_auto_columns": null,
      "grid_auto_flow": null,
      "grid_auto_rows": null,
      "grid_column": null,
      "grid_gap": null,
      "grid_row": null,
      "grid_template_areas": null,
      "grid_template_columns": null,
      "grid_template_rows": null,
      "height": null,
      "justify_content": null,
      "justify_items": null,
      "left": null,
      "margin": null,
      "max_height": null,
      "max_width": null,
      "min_height": null,
      "min_width": null,
      "object_fit": null,
      "object_position": null,
      "order": null,
      "overflow": null,
      "overflow_x": null,
      "overflow_y": null,
      "padding": null,
      "right": null,
      "top": null,
      "visibility": null,
      "width": null
     }
    },
    "ac411bb313c14a3bae6a688d5f20e809": {
     "model_module": "@jupyter-widgets/controls",
     "model_module_version": "1.5.0",
     "model_name": "ProgressStyleModel",
     "state": {
      "_model_module": "@jupyter-widgets/controls",
      "_model_module_version": "1.5.0",
      "_model_name": "ProgressStyleModel",
      "_view_count": null,
      "_view_module": "@jupyter-widgets/base",
      "_view_module_version": "1.2.0",
      "_view_name": "StyleView",
      "bar_color": null,
      "description_width": ""
     }
    },
    "ae2d3c0134994a21a2ed7dffe2dcb69e": {
     "model_module": "@jupyter-widgets/controls",
     "model_module_version": "1.5.0",
     "model_name": "HTMLModel",
     "state": {
      "_dom_classes": [],
      "_model_module": "@jupyter-widgets/controls",
      "_model_module_version": "1.5.0",
      "_model_name": "HTMLModel",
      "_view_count": null,
      "_view_module": "@jupyter-widgets/controls",
      "_view_module_version": "1.5.0",
      "_view_name": "HTMLView",
      "description": "",
      "description_tooltip": null,
      "layout": "IPY_MODEL_abd281bb4e074390b713595f369f6886",
      "placeholder": "​",
      "style": "IPY_MODEL_83c4e4c7349e4807be9553541fdc9fd9",
      "value": "Map: 100%"
     }
    },
    "ae4a016d27094afea1b17943caabe57a": {
     "model_module": "@jupyter-widgets/controls",
     "model_module_version": "1.5.0",
     "model_name": "HTMLModel",
     "state": {
      "_dom_classes": [],
      "_model_module": "@jupyter-widgets/controls",
      "_model_module_version": "1.5.0",
      "_model_name": "HTMLModel",
      "_view_count": null,
      "_view_module": "@jupyter-widgets/controls",
      "_view_module_version": "1.5.0",
      "_view_name": "HTMLView",
      "description": "",
      "description_tooltip": null,
      "layout": "IPY_MODEL_f43051bfc66f4d00993aef4792fc4b89",
      "placeholder": "​",
      "style": "IPY_MODEL_ff6832f595e04db1ba60bccb5adf691d",
      "value": " 35000/35000 [00:36&lt;00:00, 971.68 examples/s]"
     }
    },
    "b0edf27bce71492b9c38e77d1b035d02": {
     "model_module": "@jupyter-widgets/controls",
     "model_module_version": "1.5.0",
     "model_name": "FloatProgressModel",
     "state": {
      "_dom_classes": [],
      "_model_module": "@jupyter-widgets/controls",
      "_model_module_version": "1.5.0",
      "_model_name": "FloatProgressModel",
      "_view_count": null,
      "_view_module": "@jupyter-widgets/controls",
      "_view_module_version": "1.5.0",
      "_view_name": "ProgressView",
      "bar_style": "success",
      "description": "",
      "description_tooltip": null,
      "layout": "IPY_MODEL_7250397a01d54e699ac4e63d38aeca57",
      "max": 62736192,
      "min": 0,
      "orientation": "horizontal",
      "style": "IPY_MODEL_1db53545fc384fb7808c0df6f691908f",
      "value": 62736192
     }
    },
    "b4535a10666e49099d39e0159b6b34d2": {
     "model_module": "@jupyter-widgets/controls",
     "model_module_version": "1.5.0",
     "model_name": "HTMLModel",
     "state": {
      "_dom_classes": [],
      "_model_module": "@jupyter-widgets/controls",
      "_model_module_version": "1.5.0",
      "_model_name": "HTMLModel",
      "_view_count": null,
      "_view_module": "@jupyter-widgets/controls",
      "_view_module_version": "1.5.0",
      "_view_name": "HTMLView",
      "description": "",
      "description_tooltip": null,
      "layout": "IPY_MODEL_f5badb739f2e427cb35c7ba0ff580076",
      "placeholder": "​",
      "style": "IPY_MODEL_b6d0242297db4d23b15a57b06e5d593a",
      "value": " 62.7M/62.7M [00:01&lt;00:00, 60.7MB/s]"
     }
    },
    "b46bfc8341ad4a37bc7c451fdb2556e2": {
     "model_module": "@jupyter-widgets/controls",
     "model_module_version": "1.5.0",
     "model_name": "FloatProgressModel",
     "state": {
      "_dom_classes": [],
      "_model_module": "@jupyter-widgets/controls",
      "_model_module_version": "1.5.0",
      "_model_name": "FloatProgressModel",
      "_view_count": null,
      "_view_module": "@jupyter-widgets/controls",
      "_view_module_version": "1.5.0",
      "_view_name": "ProgressView",
      "bar_style": "success",
      "description": "",
      "description_tooltip": null,
      "layout": "IPY_MODEL_8b9211d12a8e4fe897081d4554a81b0f",
      "max": 4203,
      "min": 0,
      "orientation": "horizontal",
      "style": "IPY_MODEL_0594435293fd44b1956b2a07444e3d74",
      "value": 4203
     }
    },
    "b4a4f733d4d044c1a36c3341b6ce9746": {
     "model_module": "@jupyter-widgets/base",
     "model_module_version": "1.2.0",
     "model_name": "LayoutModel",
     "state": {
      "_model_module": "@jupyter-widgets/base",
      "_model_module_version": "1.2.0",
      "_model_name": "LayoutModel",
      "_view_count": null,
      "_view_module": "@jupyter-widgets/base",
      "_view_module_version": "1.2.0",
      "_view_name": "LayoutView",
      "align_content": null,
      "align_items": null,
      "align_self": null,
      "border": null,
      "bottom": null,
      "display": null,
      "flex": null,
      "flex_flow": null,
      "grid_area": null,
      "grid_auto_columns": null,
      "grid_auto_flow": null,
      "grid_auto_rows": null,
      "grid_column": null,
      "grid_gap": null,
      "grid_row": null,
      "grid_template_areas": null,
      "grid_template_columns": null,
      "grid_template_rows": null,
      "height": null,
      "justify_content": null,
      "justify_items": null,
      "left": null,
      "margin": null,
      "max_height": null,
      "max_width": null,
      "min_height": null,
      "min_width": null,
      "object_fit": null,
      "object_position": null,
      "order": null,
      "overflow": null,
      "overflow_x": null,
      "overflow_y": null,
      "padding": null,
      "right": null,
      "top": null,
      "visibility": null,
      "width": null
     }
    },
    "b6d0242297db4d23b15a57b06e5d593a": {
     "model_module": "@jupyter-widgets/controls",
     "model_module_version": "1.5.0",
     "model_name": "DescriptionStyleModel",
     "state": {
      "_model_module": "@jupyter-widgets/controls",
      "_model_module_version": "1.5.0",
      "_model_name": "DescriptionStyleModel",
      "_view_count": null,
      "_view_module": "@jupyter-widgets/base",
      "_view_module_version": "1.2.0",
      "_view_name": "StyleView",
      "description_width": ""
     }
    },
    "b8fc901d2e364bf185ed9c3cb9e70c9f": {
     "model_module": "@jupyter-widgets/controls",
     "model_module_version": "1.5.0",
     "model_name": "HTMLModel",
     "state": {
      "_dom_classes": [],
      "_model_module": "@jupyter-widgets/controls",
      "_model_module_version": "1.5.0",
      "_model_name": "HTMLModel",
      "_view_count": null,
      "_view_module": "@jupyter-widgets/controls",
      "_view_module_version": "1.5.0",
      "_view_name": "HTMLView",
      "description": "",
      "description_tooltip": null,
      "layout": "IPY_MODEL_f3fa01b1650b4a72b52a6f0d96a5ba6d",
      "placeholder": "​",
      "style": "IPY_MODEL_bca7dc03c49742e0aea27b7b97736059",
      "value": " 4.20k/4.20k [00:00&lt;00:00, 240kB/s]"
     }
    },
    "bca7dc03c49742e0aea27b7b97736059": {
     "model_module": "@jupyter-widgets/controls",
     "model_module_version": "1.5.0",
     "model_name": "DescriptionStyleModel",
     "state": {
      "_model_module": "@jupyter-widgets/controls",
      "_model_module_version": "1.5.0",
      "_model_name": "DescriptionStyleModel",
      "_view_count": null,
      "_view_module": "@jupyter-widgets/base",
      "_view_module_version": "1.2.0",
      "_view_name": "StyleView",
      "description_width": ""
     }
    },
    "bcb4b812cc884b19a58dd19c81025a99": {
     "model_module": "@jupyter-widgets/base",
     "model_module_version": "1.2.0",
     "model_name": "LayoutModel",
     "state": {
      "_model_module": "@jupyter-widgets/base",
      "_model_module_version": "1.2.0",
      "_model_name": "LayoutModel",
      "_view_count": null,
      "_view_module": "@jupyter-widgets/base",
      "_view_module_version": "1.2.0",
      "_view_name": "LayoutView",
      "align_content": null,
      "align_items": null,
      "align_self": null,
      "border": null,
      "bottom": null,
      "display": null,
      "flex": null,
      "flex_flow": null,
      "grid_area": null,
      "grid_auto_columns": null,
      "grid_auto_flow": null,
      "grid_auto_rows": null,
      "grid_column": null,
      "grid_gap": null,
      "grid_row": null,
      "grid_template_areas": null,
      "grid_template_columns": null,
      "grid_template_rows": null,
      "height": null,
      "justify_content": null,
      "justify_items": null,
      "left": null,
      "margin": null,
      "max_height": null,
      "max_width": null,
      "min_height": null,
      "min_width": null,
      "object_fit": null,
      "object_position": null,
      "order": null,
      "overflow": null,
      "overflow_x": null,
      "overflow_y": null,
      "padding": null,
      "right": null,
      "top": null,
      "visibility": null,
      "width": null
     }
    },
    "bd05cea1966f439e8261ae7966b78a46": {
     "model_module": "@jupyter-widgets/controls",
     "model_module_version": "1.5.0",
     "model_name": "HTMLModel",
     "state": {
      "_dom_classes": [],
      "_model_module": "@jupyter-widgets/controls",
      "_model_module_version": "1.5.0",
      "_model_name": "HTMLModel",
      "_view_count": null,
      "_view_module": "@jupyter-widgets/controls",
      "_view_module_version": "1.5.0",
      "_view_name": "HTMLView",
      "description": "",
      "description_tooltip": null,
      "layout": "IPY_MODEL_f3c68c953a26475a8a5b831ace0f5ad6",
      "placeholder": "​",
      "style": "IPY_MODEL_d985bd9b43ff477c9b7ca72055c1de24",
      "value": " 409/409 [00:00&lt;00:00, 12.4kB/s]"
     }
    },
    "c409c78d2e0e43fea899c1a39cf4b36b": {
     "model_module": "@jupyter-widgets/controls",
     "model_module_version": "1.5.0",
     "model_name": "FloatProgressModel",
     "state": {
      "_dom_classes": [],
      "_model_module": "@jupyter-widgets/controls",
      "_model_module_version": "1.5.0",
      "_model_name": "FloatProgressModel",
      "_view_count": null,
      "_view_module": "@jupyter-widgets/controls",
      "_view_module_version": "1.5.0",
      "_view_name": "ProgressView",
      "bar_style": "success",
      "description": "",
      "description_tooltip": null,
      "layout": "IPY_MODEL_b4a4f733d4d044c1a36c3341b6ce9746",
      "max": 35000,
      "min": 0,
      "orientation": "horizontal",
      "style": "IPY_MODEL_ac411bb313c14a3bae6a688d5f20e809",
      "value": 35000
     }
    },
    "cdd4a28139e04ee0bfe5d64a3575a0d2": {
     "model_module": "@jupyter-widgets/base",
     "model_module_version": "1.2.0",
     "model_name": "LayoutModel",
     "state": {
      "_model_module": "@jupyter-widgets/base",
      "_model_module_version": "1.2.0",
      "_model_name": "LayoutModel",
      "_view_count": null,
      "_view_module": "@jupyter-widgets/base",
      "_view_module_version": "1.2.0",
      "_view_name": "LayoutView",
      "align_content": null,
      "align_items": null,
      "align_self": null,
      "border": null,
      "bottom": null,
      "display": null,
      "flex": null,
      "flex_flow": null,
      "grid_area": null,
      "grid_auto_columns": null,
      "grid_auto_flow": null,
      "grid_auto_rows": null,
      "grid_column": null,
      "grid_gap": null,
      "grid_row": null,
      "grid_template_areas": null,
      "grid_template_columns": null,
      "grid_template_rows": null,
      "height": null,
      "justify_content": null,
      "justify_items": null,
      "left": null,
      "margin": null,
      "max_height": null,
      "max_width": null,
      "min_height": null,
      "min_width": null,
      "object_fit": null,
      "object_position": null,
      "order": null,
      "overflow": null,
      "overflow_x": null,
      "overflow_y": null,
      "padding": null,
      "right": null,
      "top": null,
      "visibility": null,
      "width": null
     }
    },
    "d263deb1f1854c6fbf070b335cf92e88": {
     "model_module": "@jupyter-widgets/base",
     "model_module_version": "1.2.0",
     "model_name": "LayoutModel",
     "state": {
      "_model_module": "@jupyter-widgets/base",
      "_model_module_version": "1.2.0",
      "_model_name": "LayoutModel",
      "_view_count": null,
      "_view_module": "@jupyter-widgets/base",
      "_view_module_version": "1.2.0",
      "_view_name": "LayoutView",
      "align_content": null,
      "align_items": null,
      "align_self": null,
      "border": null,
      "bottom": null,
      "display": null,
      "flex": null,
      "flex_flow": null,
      "grid_area": null,
      "grid_auto_columns": null,
      "grid_auto_flow": null,
      "grid_auto_rows": null,
      "grid_column": null,
      "grid_gap": null,
      "grid_row": null,
      "grid_template_areas": null,
      "grid_template_columns": null,
      "grid_template_rows": null,
      "height": null,
      "justify_content": null,
      "justify_items": null,
      "left": null,
      "margin": null,
      "max_height": null,
      "max_width": null,
      "min_height": null,
      "min_width": null,
      "object_fit": null,
      "object_position": null,
      "order": null,
      "overflow": null,
      "overflow_x": null,
      "overflow_y": null,
      "padding": null,
      "right": null,
      "top": null,
      "visibility": null,
      "width": null
     }
    },
    "d4411627509c4eed907471e56423b627": {
     "model_module": "@jupyter-widgets/base",
     "model_module_version": "1.2.0",
     "model_name": "LayoutModel",
     "state": {
      "_model_module": "@jupyter-widgets/base",
      "_model_module_version": "1.2.0",
      "_model_name": "LayoutModel",
      "_view_count": null,
      "_view_module": "@jupyter-widgets/base",
      "_view_module_version": "1.2.0",
      "_view_name": "LayoutView",
      "align_content": null,
      "align_items": null,
      "align_self": null,
      "border": null,
      "bottom": null,
      "display": null,
      "flex": null,
      "flex_flow": null,
      "grid_area": null,
      "grid_auto_columns": null,
      "grid_auto_flow": null,
      "grid_auto_rows": null,
      "grid_column": null,
      "grid_gap": null,
      "grid_row": null,
      "grid_template_areas": null,
      "grid_template_columns": null,
      "grid_template_rows": null,
      "height": null,
      "justify_content": null,
      "justify_items": null,
      "left": null,
      "margin": null,
      "max_height": null,
      "max_width": null,
      "min_height": null,
      "min_width": null,
      "object_fit": null,
      "object_position": null,
      "order": null,
      "overflow": null,
      "overflow_x": null,
      "overflow_y": null,
      "padding": null,
      "right": null,
      "top": null,
      "visibility": null,
      "width": null
     }
    },
    "d985bd9b43ff477c9b7ca72055c1de24": {
     "model_module": "@jupyter-widgets/controls",
     "model_module_version": "1.5.0",
     "model_name": "DescriptionStyleModel",
     "state": {
      "_model_module": "@jupyter-widgets/controls",
      "_model_module_version": "1.5.0",
      "_model_name": "DescriptionStyleModel",
      "_view_count": null,
      "_view_module": "@jupyter-widgets/base",
      "_view_module_version": "1.2.0",
      "_view_name": "StyleView",
      "description_width": ""
     }
    },
    "dc9f7053277a4c25b73ce598342eb976": {
     "model_module": "@jupyter-widgets/base",
     "model_module_version": "1.2.0",
     "model_name": "LayoutModel",
     "state": {
      "_model_module": "@jupyter-widgets/base",
      "_model_module_version": "1.2.0",
      "_model_name": "LayoutModel",
      "_view_count": null,
      "_view_module": "@jupyter-widgets/base",
      "_view_module_version": "1.2.0",
      "_view_name": "LayoutView",
      "align_content": null,
      "align_items": null,
      "align_self": null,
      "border": null,
      "bottom": null,
      "display": null,
      "flex": null,
      "flex_flow": null,
      "grid_area": null,
      "grid_auto_columns": null,
      "grid_auto_flow": null,
      "grid_auto_rows": null,
      "grid_column": null,
      "grid_gap": null,
      "grid_row": null,
      "grid_template_areas": null,
      "grid_template_columns": null,
      "grid_template_rows": null,
      "height": null,
      "justify_content": null,
      "justify_items": null,
      "left": null,
      "margin": null,
      "max_height": null,
      "max_width": null,
      "min_height": null,
      "min_width": null,
      "object_fit": null,
      "object_position": null,
      "order": null,
      "overflow": null,
      "overflow_x": null,
      "overflow_y": null,
      "padding": null,
      "right": null,
      "top": null,
      "visibility": null,
      "width": null
     }
    },
    "dcb123d565894afb8e19d3173d0cb708": {
     "model_module": "@jupyter-widgets/base",
     "model_module_version": "1.2.0",
     "model_name": "LayoutModel",
     "state": {
      "_model_module": "@jupyter-widgets/base",
      "_model_module_version": "1.2.0",
      "_model_name": "LayoutModel",
      "_view_count": null,
      "_view_module": "@jupyter-widgets/base",
      "_view_module_version": "1.2.0",
      "_view_name": "LayoutView",
      "align_content": null,
      "align_items": null,
      "align_self": null,
      "border": null,
      "bottom": null,
      "display": null,
      "flex": null,
      "flex_flow": null,
      "grid_area": null,
      "grid_auto_columns": null,
      "grid_auto_flow": null,
      "grid_auto_rows": null,
      "grid_column": null,
      "grid_gap": null,
      "grid_row": null,
      "grid_template_areas": null,
      "grid_template_columns": null,
      "grid_template_rows": null,
      "height": null,
      "justify_content": null,
      "justify_items": null,
      "left": null,
      "margin": null,
      "max_height": null,
      "max_width": null,
      "min_height": null,
      "min_width": null,
      "object_fit": null,
      "object_position": null,
      "order": null,
      "overflow": null,
      "overflow_x": null,
      "overflow_y": null,
      "padding": null,
      "right": null,
      "top": null,
      "visibility": null,
      "width": null
     }
    },
    "df2df16839034224a0fcc12747684de6": {
     "model_module": "@jupyter-widgets/controls",
     "model_module_version": "1.5.0",
     "model_name": "HBoxModel",
     "state": {
      "_dom_classes": [],
      "_model_module": "@jupyter-widgets/controls",
      "_model_module_version": "1.5.0",
      "_model_name": "HBoxModel",
      "_view_count": null,
      "_view_module": "@jupyter-widgets/controls",
      "_view_module_version": "1.5.0",
      "_view_name": "HBoxView",
      "box_style": "",
      "children": [
       "IPY_MODEL_6936b728fe1c4660b7fbecba98ddcda9",
       "IPY_MODEL_b46bfc8341ad4a37bc7c451fdb2556e2",
       "IPY_MODEL_b8fc901d2e364bf185ed9c3cb9e70c9f"
      ],
      "layout": "IPY_MODEL_d4411627509c4eed907471e56423b627"
     }
    },
    "e137bfd8bd72438f84e56d35161fedd1": {
     "model_module": "@jupyter-widgets/base",
     "model_module_version": "1.2.0",
     "model_name": "LayoutModel",
     "state": {
      "_model_module": "@jupyter-widgets/base",
      "_model_module_version": "1.2.0",
      "_model_name": "LayoutModel",
      "_view_count": null,
      "_view_module": "@jupyter-widgets/base",
      "_view_module_version": "1.2.0",
      "_view_name": "LayoutView",
      "align_content": null,
      "align_items": null,
      "align_self": null,
      "border": null,
      "bottom": null,
      "display": null,
      "flex": null,
      "flex_flow": null,
      "grid_area": null,
      "grid_auto_columns": null,
      "grid_auto_flow": null,
      "grid_auto_rows": null,
      "grid_column": null,
      "grid_gap": null,
      "grid_row": null,
      "grid_template_areas": null,
      "grid_template_columns": null,
      "grid_template_rows": null,
      "height": null,
      "justify_content": null,
      "justify_items": null,
      "left": null,
      "margin": null,
      "max_height": null,
      "max_width": null,
      "min_height": null,
      "min_width": null,
      "object_fit": null,
      "object_position": null,
      "order": null,
      "overflow": null,
      "overflow_x": null,
      "overflow_y": null,
      "padding": null,
      "right": null,
      "top": null,
      "visibility": null,
      "width": null
     }
    },
    "e37aa446591342778ff0b9745733dd6d": {
     "model_module": "@jupyter-widgets/controls",
     "model_module_version": "1.5.0",
     "model_name": "HBoxModel",
     "state": {
      "_dom_classes": [],
      "_model_module": "@jupyter-widgets/controls",
      "_model_module_version": "1.5.0",
      "_model_name": "HBoxModel",
      "_view_count": null,
      "_view_module": "@jupyter-widgets/controls",
      "_view_module_version": "1.5.0",
      "_view_name": "HBoxView",
      "box_style": "",
      "children": [
       "IPY_MODEL_4e0824ac08dd4184ac953bf059eccf6b",
       "IPY_MODEL_48071f3ae53046ee973efb17b9a43906",
       "IPY_MODEL_4b81639db7094084b7f021673a32f13f"
      ],
      "layout": "IPY_MODEL_e137bfd8bd72438f84e56d35161fedd1"
     }
    },
    "e618f4e584de46208fcf5daefc9b14c5": {
     "model_module": "@jupyter-widgets/controls",
     "model_module_version": "1.5.0",
     "model_name": "HTMLModel",
     "state": {
      "_dom_classes": [],
      "_model_module": "@jupyter-widgets/controls",
      "_model_module_version": "1.5.0",
      "_model_name": "HTMLModel",
      "_view_count": null,
      "_view_module": "@jupyter-widgets/controls",
      "_view_module_version": "1.5.0",
      "_view_name": "HTMLView",
      "description": "",
      "description_tooltip": null,
      "layout": "IPY_MODEL_63ef6c434a6f4c2cb4abf3a74c76f8b6",
      "placeholder": "​",
      "style": "IPY_MODEL_91f2419dc06e4dc9b51fee560141fb56",
      "value": " 15000/15000 [00:14&lt;00:00, 1017.06 examples/s]"
     }
    },
    "ea283883dc6f459eac5fdcbe144cdf86": {
     "model_module": "@jupyter-widgets/controls",
     "model_module_version": "1.5.0",
     "model_name": "DescriptionStyleModel",
     "state": {
      "_model_module": "@jupyter-widgets/controls",
      "_model_module_version": "1.5.0",
      "_model_name": "DescriptionStyleModel",
      "_view_count": null,
      "_view_module": "@jupyter-widgets/base",
      "_view_module_version": "1.2.0",
      "_view_name": "StyleView",
      "description_width": ""
     }
    },
    "f3c68c953a26475a8a5b831ace0f5ad6": {
     "model_module": "@jupyter-widgets/base",
     "model_module_version": "1.2.0",
     "model_name": "LayoutModel",
     "state": {
      "_model_module": "@jupyter-widgets/base",
      "_model_module_version": "1.2.0",
      "_model_name": "LayoutModel",
      "_view_count": null,
      "_view_module": "@jupyter-widgets/base",
      "_view_module_version": "1.2.0",
      "_view_name": "LayoutView",
      "align_content": null,
      "align_items": null,
      "align_self": null,
      "border": null,
      "bottom": null,
      "display": null,
      "flex": null,
      "flex_flow": null,
      "grid_area": null,
      "grid_auto_columns": null,
      "grid_auto_flow": null,
      "grid_auto_rows": null,
      "grid_column": null,
      "grid_gap": null,
      "grid_row": null,
      "grid_template_areas": null,
      "grid_template_columns": null,
      "grid_template_rows": null,
      "height": null,
      "justify_content": null,
      "justify_items": null,
      "left": null,
      "margin": null,
      "max_height": null,
      "max_width": null,
      "min_height": null,
      "min_width": null,
      "object_fit": null,
      "object_position": null,
      "order": null,
      "overflow": null,
      "overflow_x": null,
      "overflow_y": null,
      "padding": null,
      "right": null,
      "top": null,
      "visibility": null,
      "width": null
     }
    },
    "f3fa01b1650b4a72b52a6f0d96a5ba6d": {
     "model_module": "@jupyter-widgets/base",
     "model_module_version": "1.2.0",
     "model_name": "LayoutModel",
     "state": {
      "_model_module": "@jupyter-widgets/base",
      "_model_module_version": "1.2.0",
      "_model_name": "LayoutModel",
      "_view_count": null,
      "_view_module": "@jupyter-widgets/base",
      "_view_module_version": "1.2.0",
      "_view_name": "LayoutView",
      "align_content": null,
      "align_items": null,
      "align_self": null,
      "border": null,
      "bottom": null,
      "display": null,
      "flex": null,
      "flex_flow": null,
      "grid_area": null,
      "grid_auto_columns": null,
      "grid_auto_flow": null,
      "grid_auto_rows": null,
      "grid_column": null,
      "grid_gap": null,
      "grid_row": null,
      "grid_template_areas": null,
      "grid_template_columns": null,
      "grid_template_rows": null,
      "height": null,
      "justify_content": null,
      "justify_items": null,
      "left": null,
      "margin": null,
      "max_height": null,
      "max_width": null,
      "min_height": null,
      "min_width": null,
      "object_fit": null,
      "object_position": null,
      "order": null,
      "overflow": null,
      "overflow_x": null,
      "overflow_y": null,
      "padding": null,
      "right": null,
      "top": null,
      "visibility": null,
      "width": null
     }
    },
    "f43051bfc66f4d00993aef4792fc4b89": {
     "model_module": "@jupyter-widgets/base",
     "model_module_version": "1.2.0",
     "model_name": "LayoutModel",
     "state": {
      "_model_module": "@jupyter-widgets/base",
      "_model_module_version": "1.2.0",
      "_model_name": "LayoutModel",
      "_view_count": null,
      "_view_module": "@jupyter-widgets/base",
      "_view_module_version": "1.2.0",
      "_view_name": "LayoutView",
      "align_content": null,
      "align_items": null,
      "align_self": null,
      "border": null,
      "bottom": null,
      "display": null,
      "flex": null,
      "flex_flow": null,
      "grid_area": null,
      "grid_auto_columns": null,
      "grid_auto_flow": null,
      "grid_auto_rows": null,
      "grid_column": null,
      "grid_gap": null,
      "grid_row": null,
      "grid_template_areas": null,
      "grid_template_columns": null,
      "grid_template_rows": null,
      "height": null,
      "justify_content": null,
      "justify_items": null,
      "left": null,
      "margin": null,
      "max_height": null,
      "max_width": null,
      "min_height": null,
      "min_width": null,
      "object_fit": null,
      "object_position": null,
      "order": null,
      "overflow": null,
      "overflow_x": null,
      "overflow_y": null,
      "padding": null,
      "right": null,
      "top": null,
      "visibility": null,
      "width": null
     }
    },
    "f5badb739f2e427cb35c7ba0ff580076": {
     "model_module": "@jupyter-widgets/base",
     "model_module_version": "1.2.0",
     "model_name": "LayoutModel",
     "state": {
      "_model_module": "@jupyter-widgets/base",
      "_model_module_version": "1.2.0",
      "_model_name": "LayoutModel",
      "_view_count": null,
      "_view_module": "@jupyter-widgets/base",
      "_view_module_version": "1.2.0",
      "_view_name": "LayoutView",
      "align_content": null,
      "align_items": null,
      "align_self": null,
      "border": null,
      "bottom": null,
      "display": null,
      "flex": null,
      "flex_flow": null,
      "grid_area": null,
      "grid_auto_columns": null,
      "grid_auto_flow": null,
      "grid_auto_rows": null,
      "grid_column": null,
      "grid_gap": null,
      "grid_row": null,
      "grid_template_areas": null,
      "grid_template_columns": null,
      "grid_template_rows": null,
      "height": null,
      "justify_content": null,
      "justify_items": null,
      "left": null,
      "margin": null,
      "max_height": null,
      "max_width": null,
      "min_height": null,
      "min_width": null,
      "object_fit": null,
      "object_position": null,
      "order": null,
      "overflow": null,
      "overflow_x": null,
      "overflow_y": null,
      "padding": null,
      "right": null,
      "top": null,
      "visibility": null,
      "width": null
     }
    },
    "ff6832f595e04db1ba60bccb5adf691d": {
     "model_module": "@jupyter-widgets/controls",
     "model_module_version": "1.5.0",
     "model_name": "DescriptionStyleModel",
     "state": {
      "_model_module": "@jupyter-widgets/controls",
      "_model_module_version": "1.5.0",
      "_model_name": "DescriptionStyleModel",
      "_view_count": null,
      "_view_module": "@jupyter-widgets/base",
      "_view_module_version": "1.2.0",
      "_view_name": "StyleView",
      "description_width": ""
     }
    }
   }
  }
 },
 "nbformat": 4,
 "nbformat_minor": 0
}
